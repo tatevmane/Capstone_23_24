{
 "cells": [
  {
   "cell_type": "code",
   "execution_count": 1,
   "id": "867b79f3-94c9-49bf-808e-9bc45dccfcb5",
   "metadata": {},
   "outputs": [],
   "source": [
    "default_path = \"C:/Users/jacqu/Downloads/\"\n",
    "## doesn't exist technically...\n",
    "source_path = default_path+\"trials/101_cases_pdf\"\n",
    "destination_path = default_path+\"trials/101_cases_txt\"\n",
    "local_path = \"C:/Users/jacqu/OneDrive/Documents/\"\n",
    "csv_path = local_path+\"MSDS-at-UVA-2023/Projects/Capstone/data\""
   ]
  },
  {
   "cell_type": "code",
   "execution_count": 2,
   "id": "87247cb7-e552-4231-a493-25bd81418226",
   "metadata": {},
   "outputs": [],
   "source": [
    "import sys\n",
    "sys.path.append(\"C:/Users/jacqu/OneDrive/Documents/MSDS-at-UVA-2023/Projects/Capstone/Spring 24\") \n",
    "from extraction_run import Extraction"
   ]
  },
  {
   "cell_type": "code",
   "execution_count": 3,
   "id": "79f2c5a7-cb80-41fe-9446-fa1655c9c847",
   "metadata": {},
   "outputs": [],
   "source": [
    "mydf = Extraction(source_path, destination_path)"
   ]
  },
  {
   "cell_type": "code",
   "execution_count": 4,
   "id": "10b6a482-852a-4268-9fa2-21885ca4c785",
   "metadata": {},
   "outputs": [
    {
     "data": {
      "text/html": [
       "<div>\n",
       "<style scoped>\n",
       "    .dataframe tbody tr th:only-of-type {\n",
       "        vertical-align: middle;\n",
       "    }\n",
       "\n",
       "    .dataframe tbody tr th {\n",
       "        vertical-align: top;\n",
       "    }\n",
       "\n",
       "    .dataframe thead th {\n",
       "        text-align: right;\n",
       "    }\n",
       "</style>\n",
       "<table border=\"1\" class=\"dataframe\">\n",
       "  <thead>\n",
       "    <tr style=\"text-align: right;\">\n",
       "      <th></th>\n",
       "      <th>narrative</th>\n",
       "    </tr>\n",
       "    <tr>\n",
       "      <th>file_title</th>\n",
       "      <th></th>\n",
       "    </tr>\n",
       "  </thead>\n",
       "  <tbody>\n",
       "    <tr>\n",
       "      <th>A.B. v. Shilo Inn, Salem, LLC, 2023 U.S. Dist. LEXIS 143289</th>\n",
       "      <td>OPINION AND ORDER GRANTING DEFENDANT  SUMMIT H...</td>\n",
       "    </tr>\n",
       "    <tr>\n",
       "      <th>A.D. v. Best Western Int_l, Inc., 2023 U.S. Dist. LEXIS 150376</th>\n",
       "      <td>OPINION AND ORDER This matter comes before the...</td>\n",
       "    </tr>\n",
       "    <tr>\n",
       "      <th>A.D. v. Choice Hotels Int_l, Inc., 2023 U.S. Dist. LEXIS 150380</th>\n",
       "      <td>OPINION AND ORDER This matter comes before the...</td>\n",
       "    </tr>\n",
       "    <tr>\n",
       "      <th>A.D. v. Choice Hotels Int_l, Inc., 2023 U.S. Dist. LEXIS 150391</th>\n",
       "      <td>OPINION AND ORDER This matter comes before the...</td>\n",
       "    </tr>\n",
       "    <tr>\n",
       "      <th>A.D. v. Choice Hotels Int_l, Inc., 2023 U.S. Dist. LEXIS 150397</th>\n",
       "      <td>OPINION AND ORDER This matter comes before the...</td>\n",
       "    </tr>\n",
       "    <tr>\n",
       "      <th>...</th>\n",
       "      <td>...</td>\n",
       "    </tr>\n",
       "    <tr>\n",
       "      <th>Vidal v. Galaxy 2439 Enters., LLC, 2023 U.S. Dist. LEXIS 217264</th>\n",
       "      <td>MEMORANDUM OPINION SHIPP, District Judge This ...</td>\n",
       "    </tr>\n",
       "    <tr>\n",
       "      <th>Williams v. Sisolak, 2023 U.S. App. LEXIS 32338</th>\n",
       "      <td>[*1] U.S. COURT OF APPEALS Appeal from the Uni...</td>\n",
       "    </tr>\n",
       "    <tr>\n",
       "      <th>Wilson v. Conn. DOT, 2023 U.S. Dist. LEXIS 217795</th>\n",
       "      <td>[*1] RULING  ON  DEFENDANT'S  MOTION  TO  DISM...</td>\n",
       "    </tr>\n",
       "    <tr>\n",
       "      <th>Wisdom v. Perez, 2023 U.S. Dist. LEXIS 217366</th>\n",
       "      <td>MEMORANDUM &amp; ORDER KIYO A. MATSUMOTO, United S...</td>\n",
       "    </tr>\n",
       "    <tr>\n",
       "      <th>Woodhull Freedom Found. v. United States, 72 F.4th 1286</th>\n",
       "      <td>[*1292]  M, Circuit Judge: In 2018, Congress  ...</td>\n",
       "    </tr>\n",
       "  </tbody>\n",
       "</table>\n",
       "<p>102 rows × 1 columns</p>\n",
       "</div>"
      ],
      "text/plain": [
       "                                                                                            narrative\n",
       "file_title                                                                                           \n",
       "A.B. v. Shilo Inn, Salem, LLC, 2023 U.S. Dist. ...  OPINION AND ORDER GRANTING DEFENDANT  SUMMIT H...\n",
       "A.D. v. Best Western Int_l, Inc., 2023 U.S. Dis...  OPINION AND ORDER This matter comes before the...\n",
       "A.D. v. Choice Hotels Int_l, Inc., 2023 U.S. Di...  OPINION AND ORDER This matter comes before the...\n",
       "A.D. v. Choice Hotels Int_l, Inc., 2023 U.S. Di...  OPINION AND ORDER This matter comes before the...\n",
       "A.D. v. Choice Hotels Int_l, Inc., 2023 U.S. Di...  OPINION AND ORDER This matter comes before the...\n",
       "...                                                                                               ...\n",
       "Vidal v. Galaxy 2439 Enters., LLC, 2023 U.S. Di...  MEMORANDUM OPINION SHIPP, District Judge This ...\n",
       "Williams v. Sisolak, 2023 U.S. App. LEXIS 32338     [*1] U.S. COURT OF APPEALS Appeal from the Uni...\n",
       "Wilson v. Conn. DOT, 2023 U.S. Dist. LEXIS 217795   [*1] RULING  ON  DEFENDANT'S  MOTION  TO  DISM...\n",
       "Wisdom v. Perez, 2023 U.S. Dist. LEXIS 217366       MEMORANDUM & ORDER KIYO A. MATSUMOTO, United S...\n",
       "Woodhull Freedom Found. v. United States, 72 F....  [*1292]  M, Circuit Judge: In 2018, Congress  ...\n",
       "\n",
       "[102 rows x 1 columns]"
      ]
     },
     "execution_count": 4,
     "metadata": {},
     "output_type": "execute_result"
    }
   ],
   "source": [
    "mydf.create_info()"
   ]
  },
  {
   "cell_type": "code",
   "execution_count": 5,
   "id": "8d0b2fb4-4a46-4a8e-bdfa-ea81bd12da6c",
   "metadata": {},
   "outputs": [
    {
     "data": {
      "text/plain": [
       "(102, 1)"
      ]
     },
     "execution_count": 5,
     "metadata": {},
     "output_type": "execute_result"
    }
   ],
   "source": [
    "mydf.INFO.shape"
   ]
  },
  {
   "cell_type": "code",
   "execution_count": 6,
   "id": "ab56e63e-2798-43c7-84aa-9e75884a5e97",
   "metadata": {},
   "outputs": [],
   "source": [
    "import pandas as pd\n",
    "import numpy as np"
   ]
  },
  {
   "cell_type": "code",
   "execution_count": 7,
   "id": "2c71d2ea-49de-40a4-9744-fe9a80c28048",
   "metadata": {},
   "outputs": [
    {
     "data": {
      "text/html": [
       "<div>\n",
       "<style scoped>\n",
       "    .dataframe tbody tr th:only-of-type {\n",
       "        vertical-align: middle;\n",
       "    }\n",
       "\n",
       "    .dataframe tbody tr th {\n",
       "        vertical-align: top;\n",
       "    }\n",
       "\n",
       "    .dataframe thead th {\n",
       "        text-align: right;\n",
       "    }\n",
       "</style>\n",
       "<table border=\"1\" class=\"dataframe\">\n",
       "  <thead>\n",
       "    <tr style=\"text-align: right;\">\n",
       "      <th></th>\n",
       "      <th>label</th>\n",
       "    </tr>\n",
       "    <tr>\n",
       "      <th>file_title</th>\n",
       "      <th></th>\n",
       "    </tr>\n",
       "  </thead>\n",
       "  <tbody>\n",
       "    <tr>\n",
       "      <th>A.B. v. Shilo Inn, Salem, LLC, 2023 U.S. Dist. LEXIS 143289</th>\n",
       "      <td>1</td>\n",
       "    </tr>\n",
       "    <tr>\n",
       "      <th>A.D. v. Best Western Int_l, Inc., 2023 U.S. Dist. LEXIS 150376</th>\n",
       "      <td>1</td>\n",
       "    </tr>\n",
       "    <tr>\n",
       "      <th>A.D. v. Choice Hotels Int_l, Inc., 2023 U.S. Dist. LEXIS 150380</th>\n",
       "      <td>1</td>\n",
       "    </tr>\n",
       "    <tr>\n",
       "      <th>A.D. v. Choice Hotels Int_l, Inc., 2023 U.S. Dist. LEXIS 150391</th>\n",
       "      <td>1</td>\n",
       "    </tr>\n",
       "    <tr>\n",
       "      <th>A.D. v. Choice Hotels Int_l, Inc., 2023 U.S. Dist. LEXIS 150397</th>\n",
       "      <td>1</td>\n",
       "    </tr>\n",
       "    <tr>\n",
       "      <th>...</th>\n",
       "      <td>...</td>\n",
       "    </tr>\n",
       "    <tr>\n",
       "      <th>Vidal v. Galaxy 2439 Enters., LLC, 2023 U.S. Dist. LEXIS 217264</th>\n",
       "      <td>0</td>\n",
       "    </tr>\n",
       "    <tr>\n",
       "      <th>Williams v. Sisolak, 2023 U.S. App. LEXIS 32338</th>\n",
       "      <td>1</td>\n",
       "    </tr>\n",
       "    <tr>\n",
       "      <th>Wilson v. Conn. DOT, 2023 U.S. Dist. LEXIS 217795</th>\n",
       "      <td>0</td>\n",
       "    </tr>\n",
       "    <tr>\n",
       "      <th>Wisdom v. Perez, 2023 U.S. Dist. LEXIS 217366</th>\n",
       "      <td>0</td>\n",
       "    </tr>\n",
       "    <tr>\n",
       "      <th>Woodhull Freedom Found. v. United States, 72 F.4th 1286</th>\n",
       "      <td>1</td>\n",
       "    </tr>\n",
       "  </tbody>\n",
       "</table>\n",
       "<p>101 rows × 1 columns</p>\n",
       "</div>"
      ],
      "text/plain": [
       "                                                    label\n",
       "file_title                                               \n",
       "A.B. v. Shilo Inn, Salem, LLC, 2023 U.S. Dist. ...      1\n",
       "A.D. v. Best Western Int_l, Inc., 2023 U.S. Dis...      1\n",
       "A.D. v. Choice Hotels Int_l, Inc., 2023 U.S. Di...      1\n",
       "A.D. v. Choice Hotels Int_l, Inc., 2023 U.S. Di...      1\n",
       "A.D. v. Choice Hotels Int_l, Inc., 2023 U.S. Di...      1\n",
       "...                                                   ...\n",
       "Vidal v. Galaxy 2439 Enters., LLC, 2023 U.S. Di...      0\n",
       "Williams v. Sisolak, 2023 U.S. App. LEXIS 32338         1\n",
       "Wilson v. Conn. DOT, 2023 U.S. Dist. LEXIS 217795       0\n",
       "Wisdom v. Perez, 2023 U.S. Dist. LEXIS 217366           0\n",
       "Woodhull Freedom Found. v. United States, 72 F....      1\n",
       "\n",
       "[101 rows x 1 columns]"
      ]
     },
     "execution_count": 7,
     "metadata": {},
     "output_type": "execute_result"
    }
   ],
   "source": [
    "labels = pd.read_csv(default_path+\"trials/updated_101_cases.csv\")\n",
    "labels.set_index('CaseName', inplace=True)\n",
    "# labels.drop(columns=['Narrative'], inplace=True)\n",
    "labels.index = [each_title.split(\".pdf\")[0].strip() for each_title in labels.index]\n",
    "labels.index.name = 'file_title'\n",
    "labels.rename(columns={\"Sex_Trafficking\":\"label\"}, inplace=True)\n",
    "labels"
   ]
  },
  {
   "cell_type": "code",
   "execution_count": 8,
   "id": "e4067d5d-a98a-4d19-af2f-3ce576eeb7a6",
   "metadata": {},
   "outputs": [
    {
     "data": {
      "text/html": [
       "<div>\n",
       "<style scoped>\n",
       "    .dataframe tbody tr th:only-of-type {\n",
       "        vertical-align: middle;\n",
       "    }\n",
       "\n",
       "    .dataframe tbody tr th {\n",
       "        vertical-align: top;\n",
       "    }\n",
       "\n",
       "    .dataframe thead th {\n",
       "        text-align: right;\n",
       "    }\n",
       "</style>\n",
       "<table border=\"1\" class=\"dataframe\">\n",
       "  <thead>\n",
       "    <tr style=\"text-align: right;\">\n",
       "      <th></th>\n",
       "      <th>narrative</th>\n",
       "      <th>label</th>\n",
       "    </tr>\n",
       "    <tr>\n",
       "      <th>file_title</th>\n",
       "      <th></th>\n",
       "      <th></th>\n",
       "    </tr>\n",
       "  </thead>\n",
       "  <tbody>\n",
       "    <tr>\n",
       "      <th>A.B. v. Shilo Inn, Salem, LLC, 2023 U.S. Dist. LEXIS 143289</th>\n",
       "      <td>OPINION AND ORDER GRANTING DEFENDANT  SUMMIT H...</td>\n",
       "      <td>1</td>\n",
       "    </tr>\n",
       "    <tr>\n",
       "      <th>A.D. v. Best Western Int_l, Inc., 2023 U.S. Dist. LEXIS 150376</th>\n",
       "      <td>OPINION AND ORDER This matter comes before the...</td>\n",
       "      <td>1</td>\n",
       "    </tr>\n",
       "    <tr>\n",
       "      <th>A.D. v. Choice Hotels Int_l, Inc., 2023 U.S. Dist. LEXIS 150380</th>\n",
       "      <td>OPINION AND ORDER This matter comes before the...</td>\n",
       "      <td>1</td>\n",
       "    </tr>\n",
       "    <tr>\n",
       "      <th>A.D. v. Choice Hotels Int_l, Inc., 2023 U.S. Dist. LEXIS 150391</th>\n",
       "      <td>OPINION AND ORDER This matter comes before the...</td>\n",
       "      <td>1</td>\n",
       "    </tr>\n",
       "    <tr>\n",
       "      <th>A.D. v. Choice Hotels Int_l, Inc., 2023 U.S. Dist. LEXIS 150397</th>\n",
       "      <td>OPINION AND ORDER This matter comes before the...</td>\n",
       "      <td>1</td>\n",
       "    </tr>\n",
       "    <tr>\n",
       "      <th>...</th>\n",
       "      <td>...</td>\n",
       "      <td>...</td>\n",
       "    </tr>\n",
       "    <tr>\n",
       "      <th>Vidal v. Galaxy 2439 Enters., LLC, 2023 U.S. Dist. LEXIS 217264</th>\n",
       "      <td>MEMORANDUM OPINION SHIPP, District Judge This ...</td>\n",
       "      <td>0</td>\n",
       "    </tr>\n",
       "    <tr>\n",
       "      <th>Williams v. Sisolak, 2023 U.S. App. LEXIS 32338</th>\n",
       "      <td>[*1] U.S. COURT OF APPEALS Appeal from the Uni...</td>\n",
       "      <td>1</td>\n",
       "    </tr>\n",
       "    <tr>\n",
       "      <th>Wilson v. Conn. DOT, 2023 U.S. Dist. LEXIS 217795</th>\n",
       "      <td>[*1] RULING  ON  DEFENDANT'S  MOTION  TO  DISM...</td>\n",
       "      <td>0</td>\n",
       "    </tr>\n",
       "    <tr>\n",
       "      <th>Wisdom v. Perez, 2023 U.S. Dist. LEXIS 217366</th>\n",
       "      <td>MEMORANDUM &amp; ORDER KIYO A. MATSUMOTO, United S...</td>\n",
       "      <td>0</td>\n",
       "    </tr>\n",
       "    <tr>\n",
       "      <th>Woodhull Freedom Found. v. United States, 72 F.4th 1286</th>\n",
       "      <td>[*1292]  M, Circuit Judge: In 2018, Congress  ...</td>\n",
       "      <td>1</td>\n",
       "    </tr>\n",
       "  </tbody>\n",
       "</table>\n",
       "<p>101 rows × 2 columns</p>\n",
       "</div>"
      ],
      "text/plain": [
       "                                                                                            narrative  \\\n",
       "file_title                                                                                              \n",
       "A.B. v. Shilo Inn, Salem, LLC, 2023 U.S. Dist. ...  OPINION AND ORDER GRANTING DEFENDANT  SUMMIT H...   \n",
       "A.D. v. Best Western Int_l, Inc., 2023 U.S. Dis...  OPINION AND ORDER This matter comes before the...   \n",
       "A.D. v. Choice Hotels Int_l, Inc., 2023 U.S. Di...  OPINION AND ORDER This matter comes before the...   \n",
       "A.D. v. Choice Hotels Int_l, Inc., 2023 U.S. Di...  OPINION AND ORDER This matter comes before the...   \n",
       "A.D. v. Choice Hotels Int_l, Inc., 2023 U.S. Di...  OPINION AND ORDER This matter comes before the...   \n",
       "...                                                                                               ...   \n",
       "Vidal v. Galaxy 2439 Enters., LLC, 2023 U.S. Di...  MEMORANDUM OPINION SHIPP, District Judge This ...   \n",
       "Williams v. Sisolak, 2023 U.S. App. LEXIS 32338     [*1] U.S. COURT OF APPEALS Appeal from the Uni...   \n",
       "Wilson v. Conn. DOT, 2023 U.S. Dist. LEXIS 217795   [*1] RULING  ON  DEFENDANT'S  MOTION  TO  DISM...   \n",
       "Wisdom v. Perez, 2023 U.S. Dist. LEXIS 217366       MEMORANDUM & ORDER KIYO A. MATSUMOTO, United S...   \n",
       "Woodhull Freedom Found. v. United States, 72 F....  [*1292]  M, Circuit Judge: In 2018, Congress  ...   \n",
       "\n",
       "                                                    label  \n",
       "file_title                                                 \n",
       "A.B. v. Shilo Inn, Salem, LLC, 2023 U.S. Dist. ...      1  \n",
       "A.D. v. Best Western Int_l, Inc., 2023 U.S. Dis...      1  \n",
       "A.D. v. Choice Hotels Int_l, Inc., 2023 U.S. Di...      1  \n",
       "A.D. v. Choice Hotels Int_l, Inc., 2023 U.S. Di...      1  \n",
       "A.D. v. Choice Hotels Int_l, Inc., 2023 U.S. Di...      1  \n",
       "...                                                   ...  \n",
       "Vidal v. Galaxy 2439 Enters., LLC, 2023 U.S. Di...      0  \n",
       "Williams v. Sisolak, 2023 U.S. App. LEXIS 32338         1  \n",
       "Wilson v. Conn. DOT, 2023 U.S. Dist. LEXIS 217795       0  \n",
       "Wisdom v. Perez, 2023 U.S. Dist. LEXIS 217366           0  \n",
       "Woodhull Freedom Found. v. United States, 72 F....      1  \n",
       "\n",
       "[101 rows x 2 columns]"
      ]
     },
     "execution_count": 8,
     "metadata": {},
     "output_type": "execute_result"
    }
   ],
   "source": [
    "INFO = mydf.add_labels(labels)\n",
    "INFO"
   ]
  },
  {
   "cell_type": "code",
   "execution_count": 9,
   "id": "1a45ffd0-0e3c-4efe-be51-e5ab5272ab79",
   "metadata": {},
   "outputs": [
    {
     "data": {
      "text/plain": [
       "(101, 2)"
      ]
     },
     "execution_count": 9,
     "metadata": {},
     "output_type": "execute_result"
    }
   ],
   "source": [
    "INFO.shape"
   ]
  },
  {
   "cell_type": "raw",
   "id": "7eab31a7-4e84-4d07-bd3a-b8bdbbc0c408",
   "metadata": {},
   "source": [
    "INFO.to_csv(csv_path+\"/full_df_101.csv\")"
   ]
  }
 ],
 "metadata": {
  "kernelspec": {
   "display_name": "Python 3 (ipykernel)",
   "language": "python",
   "name": "python3"
  },
  "language_info": {
   "codemirror_mode": {
    "name": "ipython",
    "version": 3
   },
   "file_extension": ".py",
   "mimetype": "text/x-python",
   "name": "python",
   "nbconvert_exporter": "python",
   "pygments_lexer": "ipython3",
   "version": "3.11.4"
  }
 },
 "nbformat": 4,
 "nbformat_minor": 5
}
