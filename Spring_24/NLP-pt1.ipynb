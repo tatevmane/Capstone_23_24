{
 "cells": [
  {
   "cell_type": "code",
   "execution_count": 1,
   "id": "9113000e-e7bb-4548-b751-9882045d5eb2",
   "metadata": {},
   "outputs": [],
   "source": [
    "# import packages\n",
    "import os\n",
    "from glob import glob\n",
    "import pandas as pd\n",
    "import numpy as np\n",
    "import re\n",
    "import nltk\n",
    "\n",
    "## MODIFY THIS\n",
    "# get path to your folder that holds the txt files\n",
    "source_files = \"C:/Users/jacqu/Downloads/Court Case PDFs/Court Case TXTs\"\n",
    "# outputs a list of all the txt files in the folder\n",
    "source_file_list = sorted(glob(f\"{source_files}/*.txt\"))\n",
    "\n",
    "# creates a list of tuples with an elememt for the source path and\n",
    "# for the file title\n",
    "file_data = []\n",
    "for source_file_path in source_file_list:\n",
    "    # split might be different, recommend checking with INFO.sample() or .head()\n",
    "    file_title = source_file_path.split('\\\\')[-1].split(\".txt\")[0]\n",
    "    file_data.append((source_file_path, file_title))\n",
    "\n",
    "# creating df with the file title as the index and source path as a col\n",
    "INFO = pd.DataFrame(file_data, columns=['txt_path','file_title'])\\\n",
    "    .set_index('file_title').sort_index()\n",
    "# attempt at dropping any duplicate files with same file name\n",
    "# this only works if same file has the SAME NAME\n",
    "# See Notes below\n",
    "INFO = INFO[~INFO.index.duplicated(keep='first')]"
   ]
  },
  {
   "cell_type": "markdown",
   "id": "2af4da28-ebaa-4b36-831c-af48cb224f7a",
   "metadata": {},
   "source": [
    "**Notes** I envision the drop dups code piece to be helpful in the case that a file is downloaded on two different environments (hence, they will have the same name) and then the code is run. This will NOT take care of dups that have DIFFERENT file names..."
   ]
  },
  {
   "cell_type": "code",
   "execution_count": 2,
   "id": "16059a21-3973-4fc6-aad6-7cb7d34980ac",
   "metadata": {},
   "outputs": [
    {
     "data": {
      "text/html": [
       "<div>\n",
       "<style scoped>\n",
       "    .dataframe tbody tr th:only-of-type {\n",
       "        vertical-align: middle;\n",
       "    }\n",
       "\n",
       "    .dataframe tbody tr th {\n",
       "        vertical-align: top;\n",
       "    }\n",
       "\n",
       "    .dataframe thead th {\n",
       "        text-align: right;\n",
       "    }\n",
       "</style>\n",
       "<table border=\"1\" class=\"dataframe\">\n",
       "  <thead>\n",
       "    <tr style=\"text-align: right;\">\n",
       "      <th></th>\n",
       "      <th>txt_path</th>\n",
       "    </tr>\n",
       "    <tr>\n",
       "      <th>file_title</th>\n",
       "      <th></th>\n",
       "    </tr>\n",
       "  </thead>\n",
       "  <tbody>\n",
       "    <tr>\n",
       "      <th>A.D. v. Choice Hotels Int_l, Inc., 2023 U.S. Dist. LEXIS 150380</th>\n",
       "      <td>C:/Users/jacqu/Downloads/Court Case PDFs/Court...</td>\n",
       "    </tr>\n",
       "    <tr>\n",
       "      <th>United States v. Mahee, 2023 U.S. Dist. LEXIS 216654</th>\n",
       "      <td>C:/Users/jacqu/Downloads/Court Case PDFs/Court...</td>\n",
       "    </tr>\n",
       "    <tr>\n",
       "      <th>Williams v. Sisolak, 2023 U.S. App. LEXIS 32338</th>\n",
       "      <td>C:/Users/jacqu/Downloads/Court Case PDFs/Court...</td>\n",
       "    </tr>\n",
       "    <tr>\n",
       "      <th>People v. Pitcher, 2017 Cal. App. Unpub. LEXIS 2838</th>\n",
       "      <td>C:/Users/jacqu/Downloads/Court Case PDFs/Court...</td>\n",
       "    </tr>\n",
       "    <tr>\n",
       "      <th>People v. Lamb_ 37 N.Y.3d 1174</th>\n",
       "      <td>C:/Users/jacqu/Downloads/Court Case PDFs/Court...</td>\n",
       "    </tr>\n",
       "    <tr>\n",
       "      <th>State v. Davis, 2023-Ohio-4389</th>\n",
       "      <td>C:/Users/jacqu/Downloads/Court Case PDFs/Court...</td>\n",
       "    </tr>\n",
       "    <tr>\n",
       "      <th>Samsung Fire _ Marine Ins. Co., Ltd. v. UFVS Mgmt. Co., LLC, 2023 U.S. Dist. LEXIS 46508</th>\n",
       "      <td>C:/Users/jacqu/Downloads/Court Case PDFs/Court...</td>\n",
       "    </tr>\n",
       "    <tr>\n",
       "      <th>State v. Jose Y., 2023 N.J. Super. Unpub. LEXIS 2234</th>\n",
       "      <td>C:/Users/jacqu/Downloads/Court Case PDFs/Court...</td>\n",
       "    </tr>\n",
       "    <tr>\n",
       "      <th>United States v. Paul, 2020 U.S. Dist. LEXIS 72619</th>\n",
       "      <td>C:/Users/jacqu/Downloads/Court Case PDFs/Court...</td>\n",
       "    </tr>\n",
       "    <tr>\n",
       "      <th>Solis v. Okeechobee Shooting Sports, LLC, 2023 U.S. Dist. LEXIS 216887</th>\n",
       "      <td>C:/Users/jacqu/Downloads/Court Case PDFs/Court...</td>\n",
       "    </tr>\n",
       "  </tbody>\n",
       "</table>\n",
       "</div>"
      ],
      "text/plain": [
       "                                                                                             txt_path\n",
       "file_title                                                                                           \n",
       "A.D. v. Choice Hotels Int_l, Inc., 2023 U.S. Di...  C:/Users/jacqu/Downloads/Court Case PDFs/Court...\n",
       "United States v. Mahee, 2023 U.S. Dist. LEXIS 2...  C:/Users/jacqu/Downloads/Court Case PDFs/Court...\n",
       "Williams v. Sisolak, 2023 U.S. App. LEXIS 32338     C:/Users/jacqu/Downloads/Court Case PDFs/Court...\n",
       "People v. Pitcher, 2017 Cal. App. Unpub. LEXIS ...  C:/Users/jacqu/Downloads/Court Case PDFs/Court...\n",
       "People v. Lamb_ 37 N.Y.3d 1174                      C:/Users/jacqu/Downloads/Court Case PDFs/Court...\n",
       "State v. Davis, 2023-Ohio-4389                      C:/Users/jacqu/Downloads/Court Case PDFs/Court...\n",
       "Samsung Fire _ Marine Ins. Co., Ltd. v. UFVS Mg...  C:/Users/jacqu/Downloads/Court Case PDFs/Court...\n",
       "State v. Jose Y., 2023 N.J. Super. Unpub. LEXIS...  C:/Users/jacqu/Downloads/Court Case PDFs/Court...\n",
       "United States v. Paul, 2020 U.S. Dist. LEXIS 72619  C:/Users/jacqu/Downloads/Court Case PDFs/Court...\n",
       "Solis v. Okeechobee Shooting Sports, LLC, 2023 ...  C:/Users/jacqu/Downloads/Court Case PDFs/Court..."
      ]
     },
     "execution_count": 2,
     "metadata": {},
     "output_type": "execute_result"
    }
   ],
   "source": [
    "INFO.sample(10)"
   ]
  },
  {
   "cell_type": "code",
   "execution_count": 3,
   "id": "575078a4-16d1-4fab-821f-5b773548044d",
   "metadata": {},
   "outputs": [
    {
     "data": {
      "text/plain": [
       "77"
      ]
     },
     "execution_count": 3,
     "metadata": {},
     "output_type": "execute_result"
    }
   ],
   "source": [
    "INFO.size"
   ]
  },
  {
   "cell_type": "code",
   "execution_count": 4,
   "id": "b7c2f94c-8214-43ef-99ff-4051f102288f",
   "metadata": {},
   "outputs": [],
   "source": [
    "# opening the file in read mode \n",
    "my_file = open(INFO.txt_path[0], \"r\") \n",
    "# reading the file \n",
    "narrative = my_file.read() "
   ]
  },
  {
   "cell_type": "raw",
   "id": "2c357673-d9c0-486b-8fdd-4f75bdcf1986",
   "metadata": {},
   "source": [
    "TOKENS = nltk.word_tokenize(narrative)\n",
    "TOKENS[30:50]"
   ]
  },
  {
   "cell_type": "markdown",
   "id": "96c78eea-1a58-4de8-9c44-e194505c1599",
   "metadata": {},
   "source": [
    "### Making df with sentence number as index"
   ]
  },
  {
   "cell_type": "code",
   "execution_count": 5,
   "id": "7bb619e1-9e44-4ab5-9651-4b66f153b088",
   "metadata": {},
   "outputs": [
    {
     "data": {
      "text/plain": [
       "['On June 13, 2023,  Defendant Summit Hotel TRS 085, LLC (\"Summit  Hotel\") filed a motion to dismiss Plaintiff\\'s complaint in  its entirety with [*2]  prejudice for failure to state a claim.',\n",
       " 'ECF 17 at 1.',\n",
       " \"In the alternative, Defendant moves to  strike portions of Plaintiff's complaint or the complaint in  its entirety.\",\n",
       " 'Id.',\n",
       " 'at 1-2.',\n",
       " 'Plaintiff filed a Response in  Opposition on June 27, 2023, ECF 22, and Defendant  filed a Reply on July 11, 2023, ECF 25.',\n",
       " 'On August 10,  2023, Plaintiff filed a Notice of Supplemental Authority.',\n",
       " 'ECF 29.',\n",
       " \"Before this Court is Defendant Summit Hotel's Motion to  Dismiss.\",\n",
       " 'ECF 17.']"
      ]
     },
     "execution_count": 5,
     "metadata": {},
     "output_type": "execute_result"
    }
   ],
   "source": [
    "SENTS = nltk.sent_tokenize(narrative)\n",
    "SENTS[10:20]"
   ]
  },
  {
   "cell_type": "code",
   "execution_count": 40,
   "id": "90a5554f-dac8-413b-a31b-f442289031ad",
   "metadata": {},
   "outputs": [
    {
     "data": {
      "text/html": [
       "<div>\n",
       "<style scoped>\n",
       "    .dataframe tbody tr th:only-of-type {\n",
       "        vertical-align: middle;\n",
       "    }\n",
       "\n",
       "    .dataframe tbody tr th {\n",
       "        vertical-align: top;\n",
       "    }\n",
       "\n",
       "    .dataframe thead th {\n",
       "        text-align: right;\n",
       "    }\n",
       "</style>\n",
       "<table border=\"1\" class=\"dataframe\">\n",
       "  <thead>\n",
       "    <tr style=\"text-align: right;\">\n",
       "      <th></th>\n",
       "      <th>sent_str</th>\n",
       "    </tr>\n",
       "    <tr>\n",
       "      <th>sent_num</th>\n",
       "      <th></th>\n",
       "    </tr>\n",
       "  </thead>\n",
       "  <tbody>\n",
       "    <tr>\n",
       "      <th>239</th>\n",
       "      <td>18 U.S.C.</td>\n",
       "    </tr>\n",
       "    <tr>\n",
       "      <th>54</th>\n",
       "      <td>Plaintiff's Trafficking at the Residence Inn  ...</td>\n",
       "    </tr>\n",
       "    <tr>\n",
       "      <th>119</th>\n",
       "      <td>Id.</td>\n",
       "    </tr>\n",
       "    <tr>\n",
       "      <th>182</th>\n",
       "      <td>To state a financial beneficiary claim under S...</td>\n",
       "    </tr>\n",
       "    <tr>\n",
       "      <th>214</th>\n",
       "      <td>Plaintiff alleges that \"[t]here was a  continu...</td>\n",
       "    </tr>\n",
       "    <tr>\n",
       "      <th>73</th>\n",
       "      <td>These signs of sex trafficking  included  Plai...</td>\n",
       "    </tr>\n",
       "    <tr>\n",
       "      <th>274</th>\n",
       "      <td>at Â¶ 93.</td>\n",
       "    </tr>\n",
       "    <tr>\n",
       "      <th>79</th>\n",
       "      <td>LEXIS 143289, *2 Page 3 of 6 Inn Portland empl...</td>\n",
       "    </tr>\n",
       "    <tr>\n",
       "      <th>289</th>\n",
       "      <td>Accordingly, this Court GRANTS Defendants' mot...</td>\n",
       "    </tr>\n",
       "    <tr>\n",
       "      <th>71</th>\n",
       "      <td>Id.</td>\n",
       "    </tr>\n",
       "  </tbody>\n",
       "</table>\n",
       "</div>"
      ],
      "text/plain": [
       "                                                   sent_str\n",
       "sent_num                                                   \n",
       "239                                               18 U.S.C.\n",
       "54        Plaintiff's Trafficking at the Residence Inn  ...\n",
       "119                                                     Id.\n",
       "182       To state a financial beneficiary claim under S...\n",
       "214       Plaintiff alleges that \"[t]here was a  continu...\n",
       "73        These signs of sex trafficking  included  Plai...\n",
       "274                                               at Â¶ 93.\n",
       "79        LEXIS 143289, *2 Page 3 of 6 Inn Portland empl...\n",
       "289       Accordingly, this Court GRANTS Defendants' mot...\n",
       "71                                                      Id."
      ]
     },
     "execution_count": 40,
     "metadata": {},
     "output_type": "execute_result"
    }
   ],
   "source": [
    "df = pd.DataFrame()\n",
    "df['sent_str'] = nltk.sent_tokenize(narrative)\n",
    "df.sent_str = df.sent_str.str.strip()\n",
    "df.index.name = \"sent_num\"\n",
    "df.sample(10)"
   ]
  },
  {
   "cell_type": "raw",
   "id": "66c0ddbb-02ff-4be4-a53c-8a01e541c70c",
   "metadata": {},
   "source": [
    "from nltk.tree import Tree\n",
    "\n",
    "def get_NES(text):\n",
    "     chunked = nltk.ne_chunk(nltk.pos_tag(nltk.word_tokenize(text)))\n",
    "     continuous_chunk = []\n",
    "     current_chunk = []\n",
    "     for i in chunked:\n",
    "             if type(i) == Tree:\n",
    "                     current_chunk.append(\" \".join([token for token, pos in i.leaves()]))\n",
    "             if current_chunk:\n",
    "                     named_entity = \" \".join(current_chunk)\n",
    "                     if named_entity not in continuous_chunk:\n",
    "                             continuous_chunk.append(named_entity)\n",
    "                             current_chunk = []\n",
    "             else:\n",
    "                     continue\n",
    "     return continuous_chunk"
   ]
  },
  {
   "cell_type": "raw",
   "id": "f6d9db46-fe07-493c-9d81-a479dd89316d",
   "metadata": {},
   "source": [
    "entities = []\n",
    "for i in df.sent_str:\n",
    "    more_entities = get_NES(i)\n",
    "    entities.extend(more_entities)\n",
    "\n",
    "print(set(entities))"
   ]
  },
  {
   "cell_type": "code",
   "execution_count": 58,
   "id": "178dbe7f-413c-4a40-b5f9-cd4730444864",
   "metadata": {},
   "outputs": [],
   "source": [
    "def NE_dict(text):\n",
    "    chunked = nltk.ne_chunk(nltk.pos_tag(nltk.word_tokenize(text)))\n",
    "    \n",
    "    named_entities_dict = {}\n",
    "    for entity in chunked:\n",
    "        if isinstance(entity, nltk.tree.Tree):\n",
    "            entity_label = entity.label()\n",
    "            entity_text = \" \".join([word for word, tag in entity.leaves()])\n",
    "            named_entities_dict[entity_label] = [entity_text]\n",
    "    \n",
    "    return named_entities_dict"
   ]
  },
  {
   "cell_type": "code",
   "execution_count": 70,
   "id": "5e110afe-3a18-44de-86c1-823ed5046601",
   "metadata": {},
   "outputs": [
    {
     "name": "stdout",
     "output_type": "stream",
     "text": [
      "['Advanced Textile', 'Defendant', 'Mindgeek USA', 'Starr', 'Civil', 'Shroyer', 'Summit Hotel', 'Plaintiff', 'Howell', 'Hilton Worldwide Holdings', 'Boehm', 'Reddit', 'Red Roof Inns', 'Iqbal', 'District Judge', 'Residence Inn Portland Airport', 'Baca', 'Educ', 'Resorts', 'Twombly']\n",
      "['TVPRA', 'Supplemental Authority', 'Shilo Inn Salem', 'Residence Inn Portland', 'DISMISS', 'Bell Atl', 'ECF', 'LEGAL', 'Sex', 'WHO', 'Ninth Circuit', 'Defendant', 'LLC', 'Inn Portland Airport', 'Federal Rule', 'Defendant Summit Hotel', 'Defendants', 'XXIII']\n"
     ]
    }
   ],
   "source": [
    "entities_dict = {}\n",
    "for i in df.sent_str:\n",
    "    more_entities_dict = NE_dict(i)\n",
    "    # Merge dictionaries while dropping repeats in values\n",
    "    entities_dict = {key: list(set(entities_dict.get(key, []) + more_entities_dict.get(key, []))) for key in set(entities_dict) | set(more_entities_dict)}\n",
    "\n",
    "print(entities_dict['PERSON'])\n",
    "print(entities_dict['ORGANIZATION'])"
   ]
  },
  {
   "cell_type": "markdown",
   "id": "248d67d8-a572-4b48-9c71-edd1ea74922e",
   "metadata": {},
   "source": [
    "### Making df with two indices: sentence number and token number"
   ]
  },
  {
   "cell_type": "code",
   "execution_count": 7,
   "id": "61c3982c-931b-431d-9476-c99ba476d221",
   "metadata": {},
   "outputs": [
    {
     "data": {
      "text/html": [
       "<div>\n",
       "<style scoped>\n",
       "    .dataframe tbody tr th:only-of-type {\n",
       "        vertical-align: middle;\n",
       "    }\n",
       "\n",
       "    .dataframe tbody tr th {\n",
       "        vertical-align: top;\n",
       "    }\n",
       "\n",
       "    .dataframe thead th {\n",
       "        text-align: right;\n",
       "    }\n",
       "</style>\n",
       "<table border=\"1\" class=\"dataframe\">\n",
       "  <thead>\n",
       "    <tr style=\"text-align: right;\">\n",
       "      <th></th>\n",
       "      <th></th>\n",
       "      <th>token_pos</th>\n",
       "    </tr>\n",
       "    <tr>\n",
       "      <th>sent_num</th>\n",
       "      <th>token_num</th>\n",
       "      <th></th>\n",
       "    </tr>\n",
       "  </thead>\n",
       "  <tbody>\n",
       "    <tr>\n",
       "      <th rowspan=\"5\" valign=\"top\">0</th>\n",
       "      <th>0</th>\n",
       "      <td>(OPINION, NN)</td>\n",
       "    </tr>\n",
       "    <tr>\n",
       "      <th>1</th>\n",
       "      <td>(AND, CC)</td>\n",
       "    </tr>\n",
       "    <tr>\n",
       "      <th>2</th>\n",
       "      <td>(ORDER, NNP)</td>\n",
       "    </tr>\n",
       "    <tr>\n",
       "      <th>3</th>\n",
       "      <td>(GRANTING, NNP)</td>\n",
       "    </tr>\n",
       "    <tr>\n",
       "      <th>4</th>\n",
       "      <td>(DEFENDANT, NNP)</td>\n",
       "    </tr>\n",
       "  </tbody>\n",
       "</table>\n",
       "</div>"
      ],
      "text/plain": [
       "                           token_pos\n",
       "sent_num token_num                  \n",
       "0        0             (OPINION, NN)\n",
       "         1                 (AND, CC)\n",
       "         2              (ORDER, NNP)\n",
       "         3           (GRANTING, NNP)\n",
       "         4          (DEFENDANT, NNP)"
      ]
     },
     "execution_count": 7,
     "metadata": {},
     "output_type": "execute_result"
    }
   ],
   "source": [
    "# df.sent_str.apply(lambda x: x.split())\n",
    "\n",
    "df1 = df.sent_str\\\n",
    ".apply(lambda x: pd.Series(nltk.pos_tag(nltk.WhitespaceTokenizer().tokenize(x)), dtype='object'))\\\n",
    ".stack().to_frame(\"token_pos\")\n",
    "df1.index.names = [\"sent_num\", \"token_num\"]\n",
    "df1.head()"
   ]
  },
  {
   "cell_type": "code",
   "execution_count": 8,
   "id": "b3d6263a-40fc-4342-b052-e151fa422381",
   "metadata": {
    "scrolled": true
   },
   "outputs": [
    {
     "data": {
      "text/html": [
       "<div>\n",
       "<style scoped>\n",
       "    .dataframe tbody tr th:only-of-type {\n",
       "        vertical-align: middle;\n",
       "    }\n",
       "\n",
       "    .dataframe tbody tr th {\n",
       "        vertical-align: top;\n",
       "    }\n",
       "\n",
       "    .dataframe thead th {\n",
       "        text-align: right;\n",
       "    }\n",
       "</style>\n",
       "<table border=\"1\" class=\"dataframe\">\n",
       "  <thead>\n",
       "    <tr style=\"text-align: right;\">\n",
       "      <th></th>\n",
       "      <th></th>\n",
       "      <th>token_str</th>\n",
       "      <th>term_str</th>\n",
       "      <th>pos_tag</th>\n",
       "    </tr>\n",
       "    <tr>\n",
       "      <th>sent_num</th>\n",
       "      <th>token_num</th>\n",
       "      <th></th>\n",
       "      <th></th>\n",
       "      <th></th>\n",
       "    </tr>\n",
       "  </thead>\n",
       "  <tbody>\n",
       "    <tr>\n",
       "      <th rowspan=\"5\" valign=\"top\">0</th>\n",
       "      <th>0</th>\n",
       "      <td>OPINION</td>\n",
       "      <td>opinion</td>\n",
       "      <td>NN</td>\n",
       "    </tr>\n",
       "    <tr>\n",
       "      <th>1</th>\n",
       "      <td>AND</td>\n",
       "      <td>and</td>\n",
       "      <td>CC</td>\n",
       "    </tr>\n",
       "    <tr>\n",
       "      <th>2</th>\n",
       "      <td>ORDER</td>\n",
       "      <td>order</td>\n",
       "      <td>NNP</td>\n",
       "    </tr>\n",
       "    <tr>\n",
       "      <th>3</th>\n",
       "      <td>GRANTING</td>\n",
       "      <td>granting</td>\n",
       "      <td>NNP</td>\n",
       "    </tr>\n",
       "    <tr>\n",
       "      <th>4</th>\n",
       "      <td>DEFENDANT</td>\n",
       "      <td>defendant</td>\n",
       "      <td>NNP</td>\n",
       "    </tr>\n",
       "  </tbody>\n",
       "</table>\n",
       "</div>"
      ],
      "text/plain": [
       "                    token_str   term_str pos_tag\n",
       "sent_num token_num                              \n",
       "0        0            OPINION    opinion      NN\n",
       "         1                AND        and      CC\n",
       "         2              ORDER      order     NNP\n",
       "         3           GRANTING   granting     NNP\n",
       "         4          DEFENDANT  defendant     NNP"
      ]
     },
     "execution_count": 8,
     "metadata": {},
     "output_type": "execute_result"
    }
   ],
   "source": [
    "#df['token_str'] = \n",
    "df1['token_str'] = df1.token_pos.apply(lambda x: x[0].strip())\n",
    "df1['term_str'] = df1.token_pos.apply(lambda x: x[0].lower().strip())\n",
    "TOKEN = df1\n",
    "df1['pos_tag'] = df1.token_pos.apply(lambda x: x[1])\n",
    "df1 = df1.drop(columns=\"token_pos\")\n",
    "df1.head()"
   ]
  },
  {
   "cell_type": "markdown",
   "id": "2ea6cc5d-8673-4bb8-9ca0-e760bbbcc595",
   "metadata": {},
   "source": [
    "**Note:** Making separate df with POS tags just incase..."
   ]
  },
  {
   "cell_type": "raw",
   "id": "afa3a570-e730-448f-bbbe-19380eadcff8",
   "metadata": {},
   "source": [
    "## list of stopwords\n",
    "clean = [word for word in txt if word not in sw]"
   ]
  },
  {
   "cell_type": "raw",
   "id": "bce91ccc-e7c8-4dfa-9aa3-ce94cef770d5",
   "metadata": {},
   "source": [
    "nltk.corpus.stopwords.words('english')"
   ]
  },
  {
   "cell_type": "raw",
   "id": "1ccd17e2-01b8-4135-8658-fb3f3663acbe",
   "metadata": {},
   "source": [
    "VOCAB = df1.term_str.value_counts().to_frame('n')\n",
    "VOCAB.head()"
   ]
  },
  {
   "cell_type": "raw",
   "id": "726778d5-7021-4019-aabd-ece746db0ee7",
   "metadata": {},
   "source": [
    "sw = pd.DataFrame(nltk.corpus.stopwords.words('english'), columns=['term_str'])\n",
    "sw = sw.reset_index().set_index('term_str')\n",
    "sw.columns = ['dummy']\n",
    "sw.dummy = 1\n",
    "sw.head()"
   ]
  },
  {
   "cell_type": "raw",
   "id": "20eb4881-24e1-4743-b103-b19dd829aa3d",
   "metadata": {},
   "source": [
    "VOCAB['stop'] = VOCAB.index.get_level_values(0).map(sw.dummy)\n",
    "VOCAB['stop'] = VOCAB['stop'].fillna(0).astype('int')\n",
    "VOCAB.sample(10)"
   ]
  },
  {
   "cell_type": "raw",
   "id": "b6b40f86-7948-4f6b-bffe-89f0249a58ee",
   "metadata": {},
   "source": [
    "VOCAB[VOCAB.stop == 1].sample(10)"
   ]
  },
  {
   "cell_type": "markdown",
   "id": "d138abf9-412a-4826-aa9f-f483c7ed1806",
   "metadata": {},
   "source": [
    "### Making function for getting NGram models from narrative"
   ]
  },
  {
   "cell_type": "code",
   "execution_count": 9,
   "id": "ff9fbaca-4691-4951-8dfa-c85081a6e61d",
   "metadata": {},
   "outputs": [],
   "source": [
    "def get_ngrams(TOKEN, n=2, sent_key='sent_num'):\n",
    "    \n",
    "    OHCO = TOKEN.index.names\n",
    "    grouper = list(OHCO)[:OHCO.index(sent_key)+1]\n",
    "\n",
    "    PADDED = TOKEN.groupby(grouper)\\\n",
    "        .apply(lambda x: '<s> ' + ' '.join(x.term_str) + ' </s>')\\\n",
    "        .apply(lambda x: pd.Series(x.split()))\\\n",
    "        .stack().to_frame('term_str')\n",
    "    PADDED.index.names = grouper + ['token_num']\n",
    "\n",
    "    NGRAMS = PADDED.groupby(grouper)\\\n",
    "        .apply(lambda x: pd.concat([x.shift(0-i) for i in range(n)], axis=1)).reset_index(drop=True)\n",
    "    NGRAMS.index = PADDED.index\n",
    "    NGRAMS.columns = [f'w{j}' for j in range(n)]\n",
    "    \n",
    "    return NGRAMS"
   ]
  },
  {
   "cell_type": "code",
   "execution_count": 10,
   "id": "1d80b88c-04fa-4b5e-bfb2-59a8e3608f8b",
   "metadata": {},
   "outputs": [],
   "source": [
    "ngrams = 3\n",
    "widx = [f\"w{i}\" for i in range(ngrams)]"
   ]
  },
  {
   "cell_type": "code",
   "execution_count": 11,
   "id": "7981423b-45b1-4869-a44b-e8406dcf74d0",
   "metadata": {},
   "outputs": [],
   "source": [
    "def ngrams_to_models(ngrams):\n",
    "    global widx\n",
    "    n = len(ngrams.columns)\n",
    "    model = [None for i in range(n)]\n",
    "    for i in range(n):\n",
    "        if i == 0:\n",
    "            model[i] = ngrams.value_counts('w0').to_frame('n')\n",
    "            model[i]['p'] = model[i].n / model[i].n.sum()\n",
    "            model[i]['i'] = np.log2(1/model[i].p)\n",
    "        else:\n",
    "            model[i] = ngrams.value_counts(widx[:i+1]).to_frame('n')    \n",
    "            model[i]['cp'] = model[i].n / model[i-1].n\n",
    "            model[i]['i'] = np.log2(1/model[i].cp)\n",
    "    return model"
   ]
  },
  {
   "cell_type": "markdown",
   "id": "2d2751ae-988e-4703-9dc5-362cc2745256",
   "metadata": {},
   "source": [
    "**NGram example with the narrative for sentence number 3 (index 2)**"
   ]
  },
  {
   "cell_type": "code",
   "execution_count": 19,
   "id": "c7ffe615-60d4-4a6d-854c-9968a18607a4",
   "metadata": {},
   "outputs": [
    {
     "data": {
      "text/html": [
       "<div>\n",
       "<style scoped>\n",
       "    .dataframe tbody tr th:only-of-type {\n",
       "        vertical-align: middle;\n",
       "    }\n",
       "\n",
       "    .dataframe tbody tr th {\n",
       "        vertical-align: top;\n",
       "    }\n",
       "\n",
       "    .dataframe thead th {\n",
       "        text-align: right;\n",
       "    }\n",
       "</style>\n",
       "<table border=\"1\" class=\"dataframe\">\n",
       "  <thead>\n",
       "    <tr style=\"text-align: right;\">\n",
       "      <th></th>\n",
       "      <th>w0</th>\n",
       "      <th>w1</th>\n",
       "      <th>w2</th>\n",
       "    </tr>\n",
       "    <tr>\n",
       "      <th>token_num</th>\n",
       "      <th></th>\n",
       "      <th></th>\n",
       "      <th></th>\n",
       "    </tr>\n",
       "  </thead>\n",
       "  <tbody>\n",
       "    <tr>\n",
       "      <th>0</th>\n",
       "      <td>&lt;s&gt;</td>\n",
       "      <td>(\"plaintiff\")</td>\n",
       "      <td>filed</td>\n",
       "    </tr>\n",
       "    <tr>\n",
       "      <th>1</th>\n",
       "      <td>(\"plaintiff\")</td>\n",
       "      <td>filed</td>\n",
       "      <td>a</td>\n",
       "    </tr>\n",
       "    <tr>\n",
       "      <th>2</th>\n",
       "      <td>filed</td>\n",
       "      <td>a</td>\n",
       "      <td>complaint</td>\n",
       "    </tr>\n",
       "    <tr>\n",
       "      <th>3</th>\n",
       "      <td>a</td>\n",
       "      <td>complaint</td>\n",
       "      <td>against</td>\n",
       "    </tr>\n",
       "    <tr>\n",
       "      <th>4</th>\n",
       "      <td>complaint</td>\n",
       "      <td>against</td>\n",
       "      <td>defendants</td>\n",
       "    </tr>\n",
       "  </tbody>\n",
       "</table>\n",
       "</div>"
      ],
      "text/plain": [
       "                      w0             w1          w2\n",
       "token_num                                          \n",
       "0                    <s>  (\"plaintiff\")       filed\n",
       "1          (\"plaintiff\")          filed           a\n",
       "2                  filed              a   complaint\n",
       "3                      a      complaint     against\n",
       "4              complaint        against  defendants"
      ]
     },
     "execution_count": 19,
     "metadata": {},
     "output_type": "execute_result"
    }
   ],
   "source": [
    "NG3 = get_ngrams(TOKEN, n=3)\n",
    "NG3.loc[2].head()"
   ]
  },
  {
   "cell_type": "code",
   "execution_count": 22,
   "id": "bf4ee871-206d-4572-aeb8-bcdb461ac5f4",
   "metadata": {},
   "outputs": [
    {
     "data": {
      "text/html": [
       "<div>\n",
       "<style scoped>\n",
       "    .dataframe tbody tr th:only-of-type {\n",
       "        vertical-align: middle;\n",
       "    }\n",
       "\n",
       "    .dataframe tbody tr th {\n",
       "        vertical-align: top;\n",
       "    }\n",
       "\n",
       "    .dataframe thead th {\n",
       "        text-align: right;\n",
       "    }\n",
       "</style>\n",
       "<table border=\"1\" class=\"dataframe\">\n",
       "  <thead>\n",
       "    <tr style=\"text-align: right;\">\n",
       "      <th></th>\n",
       "      <th></th>\n",
       "      <th></th>\n",
       "      <th>n</th>\n",
       "      <th>cp</th>\n",
       "      <th>i</th>\n",
       "    </tr>\n",
       "    <tr>\n",
       "      <th>w0</th>\n",
       "      <th>w1</th>\n",
       "      <th>w2</th>\n",
       "      <th></th>\n",
       "      <th></th>\n",
       "      <th></th>\n",
       "    </tr>\n",
       "  </thead>\n",
       "  <tbody>\n",
       "    <tr>\n",
       "      <th>this</th>\n",
       "      <th>case.</th>\n",
       "      <th>&lt;/s&gt;</th>\n",
       "      <td>1</td>\n",
       "      <td>1.0</td>\n",
       "      <td>0.0</td>\n",
       "    </tr>\n",
       "    <tr>\n",
       "      <th>2023,</th>\n",
       "      <th>plaintiff</th>\n",
       "      <th>filed</th>\n",
       "      <td>1</td>\n",
       "      <td>1.0</td>\n",
       "      <td>0.0</td>\n",
       "    </tr>\n",
       "    <tr>\n",
       "      <th>21</th>\n",
       "      <th>f.4th</th>\n",
       "      <th>714,</th>\n",
       "      <td>1</td>\n",
       "      <td>1.0</td>\n",
       "      <td>0.0</td>\n",
       "    </tr>\n",
       "    <tr>\n",
       "      <th>214</th>\n",
       "      <th>f.3d</th>\n",
       "      <th>1058,</th>\n",
       "      <td>1</td>\n",
       "      <td>1.0</td>\n",
       "      <td>0.0</td>\n",
       "    </tr>\n",
       "    <tr>\n",
       "      <th>2012</th>\n",
       "      <th>through</th>\n",
       "      <th>march</th>\n",
       "      <td>1</td>\n",
       "      <td>1.0</td>\n",
       "      <td>0.0</td>\n",
       "    </tr>\n",
       "  </tbody>\n",
       "</table>\n",
       "</div>"
      ],
      "text/plain": [
       "                       n   cp    i\n",
       "w0    w1        w2                \n",
       "this  case.     </s>   1  1.0  0.0\n",
       "2023, plaintiff filed  1  1.0  0.0\n",
       "21    f.4th     714,   1  1.0  0.0\n",
       "214   f.3d      1058,  1  1.0  0.0\n",
       "2012  through   march  1  1.0  0.0"
      ]
     },
     "execution_count": 22,
     "metadata": {},
     "output_type": "execute_result"
    }
   ],
   "source": [
    "M3 = ngrams_to_models(NG3)\n",
    "tri = M3[2].sort_values('n')\n",
    "tri.head()"
   ]
  },
  {
   "cell_type": "markdown",
   "id": "8bb54176-45ff-4f65-929d-68bc46ee1bf7",
   "metadata": {},
   "source": [
    "**Testing for words associated with \"sex\" and \"trafficking\"**"
   ]
  },
  {
   "cell_type": "code",
   "execution_count": 25,
   "id": "7ae2dcbc-e86a-43c3-9777-004d3377f57d",
   "metadata": {},
   "outputs": [
    {
     "data": {
      "text/html": [
       "<div>\n",
       "<style scoped>\n",
       "    .dataframe tbody tr th:only-of-type {\n",
       "        vertical-align: middle;\n",
       "    }\n",
       "\n",
       "    .dataframe tbody tr th {\n",
       "        vertical-align: top;\n",
       "    }\n",
       "\n",
       "    .dataframe thead th {\n",
       "        text-align: right;\n",
       "    }\n",
       "</style>\n",
       "<table border=\"1\" class=\"dataframe\">\n",
       "  <thead>\n",
       "    <tr style=\"text-align: right;\">\n",
       "      <th></th>\n",
       "      <th></th>\n",
       "      <th></th>\n",
       "      <th>n</th>\n",
       "      <th>cp</th>\n",
       "      <th>i</th>\n",
       "    </tr>\n",
       "    <tr>\n",
       "      <th>w0</th>\n",
       "      <th>w1</th>\n",
       "      <th>w2</th>\n",
       "      <th></th>\n",
       "      <th></th>\n",
       "      <th></th>\n",
       "    </tr>\n",
       "  </thead>\n",
       "  <tbody>\n",
       "    <tr>\n",
       "      <th>of</th>\n",
       "      <th>sex</th>\n",
       "      <th>trafficking</th>\n",
       "      <td>11</td>\n",
       "      <td>0.846154</td>\n",
       "      <td>0.241008</td>\n",
       "    </tr>\n",
       "    <tr>\n",
       "      <th>commercial</th>\n",
       "      <th>sex</th>\n",
       "      <th>activity</th>\n",
       "      <td>8</td>\n",
       "      <td>0.615385</td>\n",
       "      <td>0.700440</td>\n",
       "    </tr>\n",
       "    <tr>\n",
       "      <th rowspan=\"2\" valign=\"top\">in</th>\n",
       "      <th rowspan=\"2\" valign=\"top\">sex</th>\n",
       "      <th>trafficking.</th>\n",
       "      <td>7</td>\n",
       "      <td>0.636364</td>\n",
       "      <td>0.652077</td>\n",
       "    </tr>\n",
       "    <tr>\n",
       "      <th>trafficking</th>\n",
       "      <td>3</td>\n",
       "      <td>0.272727</td>\n",
       "      <td>1.874469</td>\n",
       "    </tr>\n",
       "    <tr>\n",
       "      <th>the</th>\n",
       "      <th>sex</th>\n",
       "      <th>trafficking</th>\n",
       "      <td>3</td>\n",
       "      <td>0.600000</td>\n",
       "      <td>0.736966</td>\n",
       "    </tr>\n",
       "    <tr>\n",
       "      <th>being</th>\n",
       "      <th>sex</th>\n",
       "      <th>trafficked</th>\n",
       "      <td>2</td>\n",
       "      <td>1.000000</td>\n",
       "      <td>0.000000</td>\n",
       "    </tr>\n",
       "    <tr>\n",
       "      <th>plaintiff's</th>\n",
       "      <th>sex</th>\n",
       "      <th>trafficking.</th>\n",
       "      <td>1</td>\n",
       "      <td>0.500000</td>\n",
       "      <td>1.000000</td>\n",
       "    </tr>\n",
       "    <tr>\n",
       "      <th rowspan=\"2\" valign=\"top\">the</th>\n",
       "      <th rowspan=\"2\" valign=\"top\">sex</th>\n",
       "      <th>trade\"</th>\n",
       "      <td>1</td>\n",
       "      <td>0.200000</td>\n",
       "      <td>2.321928</td>\n",
       "    </tr>\n",
       "    <tr>\n",
       "      <th>acts</th>\n",
       "      <td>1</td>\n",
       "      <td>0.200000</td>\n",
       "      <td>2.321928</td>\n",
       "    </tr>\n",
       "    <tr>\n",
       "      <th>plaintiff's</th>\n",
       "      <th>sex</th>\n",
       "      <th>trafficking</th>\n",
       "      <td>1</td>\n",
       "      <td>0.500000</td>\n",
       "      <td>1.000000</td>\n",
       "    </tr>\n",
       "  </tbody>\n",
       "</table>\n",
       "</div>"
      ],
      "text/plain": [
       "                               n        cp         i\n",
       "w0          w1  w2                                  \n",
       "of          sex trafficking   11  0.846154  0.241008\n",
       "commercial  sex activity       8  0.615385  0.700440\n",
       "in          sex trafficking.   7  0.636364  0.652077\n",
       "                trafficking    3  0.272727  1.874469\n",
       "the         sex trafficking    3  0.600000  0.736966\n",
       "being       sex trafficked     2  1.000000  0.000000\n",
       "plaintiff's sex trafficking.   1  0.500000  1.000000\n",
       "the         sex trade\"         1  0.200000  2.321928\n",
       "                acts           1  0.200000  2.321928\n",
       "plaintiff's sex trafficking    1  0.500000  1.000000"
      ]
     },
     "execution_count": 25,
     "metadata": {},
     "output_type": "execute_result"
    }
   ],
   "source": [
    "tri.query('w1 == \"sex\"').sort_values('n', ascending=False).head(10)"
   ]
  },
  {
   "cell_type": "code",
   "execution_count": 26,
   "id": "8fd9518d-3b50-4af6-9943-c77e7dc3c13c",
   "metadata": {
    "scrolled": true
   },
   "outputs": [
    {
     "data": {
      "text/html": [
       "<div>\n",
       "<style scoped>\n",
       "    .dataframe tbody tr th:only-of-type {\n",
       "        vertical-align: middle;\n",
       "    }\n",
       "\n",
       "    .dataframe tbody tr th {\n",
       "        vertical-align: top;\n",
       "    }\n",
       "\n",
       "    .dataframe thead th {\n",
       "        text-align: right;\n",
       "    }\n",
       "</style>\n",
       "<table border=\"1\" class=\"dataframe\">\n",
       "  <thead>\n",
       "    <tr style=\"text-align: right;\">\n",
       "      <th></th>\n",
       "      <th></th>\n",
       "      <th></th>\n",
       "      <th>n</th>\n",
       "      <th>cp</th>\n",
       "      <th>i</th>\n",
       "    </tr>\n",
       "    <tr>\n",
       "      <th>w0</th>\n",
       "      <th>w1</th>\n",
       "      <th>w2</th>\n",
       "      <th></th>\n",
       "      <th></th>\n",
       "      <th></th>\n",
       "    </tr>\n",
       "  </thead>\n",
       "  <tbody>\n",
       "    <tr>\n",
       "      <th rowspan=\"7\" valign=\"top\">sex</th>\n",
       "      <th rowspan=\"7\" valign=\"top\">trafficking</th>\n",
       "      <th>and</th>\n",
       "      <td>4</td>\n",
       "      <td>0.210526</td>\n",
       "      <td>2.247928</td>\n",
       "    </tr>\n",
       "    <tr>\n",
       "      <th>at</th>\n",
       "      <td>3</td>\n",
       "      <td>0.157895</td>\n",
       "      <td>2.662965</td>\n",
       "    </tr>\n",
       "    <tr>\n",
       "      <th>industry</th>\n",
       "      <td>2</td>\n",
       "      <td>0.105263</td>\n",
       "      <td>3.247928</td>\n",
       "    </tr>\n",
       "    <tr>\n",
       "      <th>occurring</th>\n",
       "      <td>2</td>\n",
       "      <td>0.105263</td>\n",
       "      <td>3.247928</td>\n",
       "    </tr>\n",
       "    <tr>\n",
       "      <th>as</th>\n",
       "      <td>2</td>\n",
       "      <td>0.105263</td>\n",
       "      <td>3.247928</td>\n",
       "    </tr>\n",
       "    <tr>\n",
       "      <th>included</th>\n",
       "      <td>1</td>\n",
       "      <td>0.052632</td>\n",
       "      <td>4.247928</td>\n",
       "    </tr>\n",
       "    <tr>\n",
       "      <th>or</th>\n",
       "      <td>1</td>\n",
       "      <td>0.052632</td>\n",
       "      <td>4.247928</td>\n",
       "    </tr>\n",
       "    <tr>\n",
       "      <th>the</th>\n",
       "      <th>trafficking</th>\n",
       "      <th>venture.</th>\n",
       "      <td>1</td>\n",
       "      <td>0.500000</td>\n",
       "      <td>1.000000</td>\n",
       "    </tr>\n",
       "    <tr>\n",
       "      <th rowspan=\"2\" valign=\"top\">sex</th>\n",
       "      <th rowspan=\"2\" valign=\"top\">trafficking</th>\n",
       "      <th>by</th>\n",
       "      <td>1</td>\n",
       "      <td>0.052632</td>\n",
       "      <td>4.247928</td>\n",
       "    </tr>\n",
       "    <tr>\n",
       "      <th>in</th>\n",
       "      <td>1</td>\n",
       "      <td>0.052632</td>\n",
       "      <td>4.247928</td>\n",
       "    </tr>\n",
       "  </tbody>\n",
       "</table>\n",
       "</div>"
      ],
      "text/plain": [
       "                           n        cp         i\n",
       "w0  w1          w2                              \n",
       "sex trafficking and        4  0.210526  2.247928\n",
       "                at         3  0.157895  2.662965\n",
       "                industry   2  0.105263  3.247928\n",
       "                occurring  2  0.105263  3.247928\n",
       "                as         2  0.105263  3.247928\n",
       "                included   1  0.052632  4.247928\n",
       "                or         1  0.052632  4.247928\n",
       "the trafficking venture.   1  0.500000  1.000000\n",
       "sex trafficking by         1  0.052632  4.247928\n",
       "                in         1  0.052632  4.247928"
      ]
     },
     "execution_count": 26,
     "metadata": {},
     "output_type": "execute_result"
    }
   ],
   "source": [
    "tri.query('w1 == \"trafficking\"').sort_values('n', ascending=False).head(10)"
   ]
  },
  {
   "cell_type": "code",
   "execution_count": 29,
   "id": "dc456ebd-3975-40de-8368-9ec57ad74f34",
   "metadata": {},
   "outputs": [
    {
     "data": {
      "text/html": [
       "<div>\n",
       "<style scoped>\n",
       "    .dataframe tbody tr th:only-of-type {\n",
       "        vertical-align: middle;\n",
       "    }\n",
       "\n",
       "    .dataframe tbody tr th {\n",
       "        vertical-align: top;\n",
       "    }\n",
       "\n",
       "    .dataframe thead th {\n",
       "        text-align: right;\n",
       "    }\n",
       "</style>\n",
       "<table border=\"1\" class=\"dataframe\">\n",
       "  <thead>\n",
       "    <tr style=\"text-align: right;\">\n",
       "      <th></th>\n",
       "      <th></th>\n",
       "      <th></th>\n",
       "      <th>n</th>\n",
       "      <th>cp</th>\n",
       "      <th>i</th>\n",
       "    </tr>\n",
       "    <tr>\n",
       "      <th>w0</th>\n",
       "      <th>w1</th>\n",
       "      <th>w2</th>\n",
       "      <th></th>\n",
       "      <th></th>\n",
       "      <th></th>\n",
       "    </tr>\n",
       "  </thead>\n",
       "  <tbody>\n",
       "    <tr>\n",
       "      <th>sex,</th>\n",
       "      <th>forced</th>\n",
       "      <th>prostitution,</th>\n",
       "      <td>1</td>\n",
       "      <td>1.0</td>\n",
       "      <td>0.0</td>\n",
       "    </tr>\n",
       "  </tbody>\n",
       "</table>\n",
       "</div>"
      ],
      "text/plain": [
       "                           n   cp    i\n",
       "w0   w1     w2                        \n",
       "sex, forced prostitution,  1  1.0  0.0"
      ]
     },
     "execution_count": 29,
     "metadata": {},
     "output_type": "execute_result"
    }
   ],
   "source": [
    "tri.query('w1 == \"forced\"').sort_values('n', ascending=False).head(10)"
   ]
  },
  {
   "cell_type": "code",
   "execution_count": 35,
   "id": "9d45eee6-d0ec-4248-ac1c-fa429601b9a1",
   "metadata": {},
   "outputs": [
    {
     "data": {
      "text/html": [
       "<div>\n",
       "<style scoped>\n",
       "    .dataframe tbody tr th:only-of-type {\n",
       "        vertical-align: middle;\n",
       "    }\n",
       "\n",
       "    .dataframe tbody tr th {\n",
       "        vertical-align: top;\n",
       "    }\n",
       "\n",
       "    .dataframe thead th {\n",
       "        text-align: right;\n",
       "    }\n",
       "</style>\n",
       "<table border=\"1\" class=\"dataframe\">\n",
       "  <thead>\n",
       "    <tr style=\"text-align: right;\">\n",
       "      <th></th>\n",
       "      <th></th>\n",
       "      <th></th>\n",
       "      <th>n</th>\n",
       "      <th>cp</th>\n",
       "      <th>i</th>\n",
       "    </tr>\n",
       "    <tr>\n",
       "      <th>w0</th>\n",
       "      <th>w1</th>\n",
       "      <th>w2</th>\n",
       "      <th></th>\n",
       "      <th></th>\n",
       "      <th></th>\n",
       "    </tr>\n",
       "  </thead>\n",
       "  <tbody>\n",
       "    <tr>\n",
       "      <th>a</th>\n",
       "      <th>minor</th>\n",
       "      <th>or</th>\n",
       "      <td>1</td>\n",
       "      <td>1.0</td>\n",
       "      <td>0.0</td>\n",
       "    </tr>\n",
       "  </tbody>\n",
       "</table>\n",
       "</div>"
      ],
      "text/plain": [
       "             n   cp    i\n",
       "w0 w1    w2             \n",
       "a  minor or  1  1.0  0.0"
      ]
     },
     "execution_count": 35,
     "metadata": {},
     "output_type": "execute_result"
    }
   ],
   "source": [
    "tri.query('w1 == \"minor\"').sort_values('n', ascending=False).head(10)"
   ]
  },
  {
   "cell_type": "code",
   "execution_count": null,
   "id": "376278d2-9657-49a0-aafd-30f6ba5423a0",
   "metadata": {},
   "outputs": [],
   "source": []
  },
  {
   "cell_type": "code",
   "execution_count": 12,
   "id": "e8a5119e-a6ff-4ac6-9bd8-f179e9a29c4a",
   "metadata": {},
   "outputs": [],
   "source": [
    "# list(df1.term_str.values)"
   ]
  },
  {
   "cell_type": "code",
   "execution_count": 13,
   "id": "3b491169-60d6-480b-8106-446c2ff3060f",
   "metadata": {},
   "outputs": [],
   "source": [
    "# set(df1.term_str.values)"
   ]
  },
  {
   "cell_type": "raw",
   "id": "8b8d6297-baf2-4fb4-a6d5-7fd58874f649",
   "metadata": {},
   "source": [
    "ngram_order = 3 # 3 means trigrams\n",
    "pads = [\"<s>\", \"</s>\"]\n",
    "widx = [f\"w{i}\" for i in range(ngram_order)]\n",
    "ohco = ['sent_num', 'token_num']"
   ]
  },
  {
   "cell_type": "raw",
   "id": "7599f798-e339-4fff-baec-e9f1cce2c560",
   "metadata": {},
   "source": [
    "from nltk.lm import MLE\n",
    "from nltk.lm import Vocabulary\n",
    "from nltk.lm import NgramCounter\n",
    "from nltk.lm.preprocessing import padded_everygram_pipeline\n",
    "from collections import Counter"
   ]
  },
  {
   "cell_type": "raw",
   "id": "750000d9-14d7-4b7b-86a3-7bdbd67de430",
   "metadata": {},
   "source": [
    "[print(sent) for sent in df.sent_str]"
   ]
  },
  {
   "cell_type": "raw",
   "id": "360907aa-58c4-4067-9514-7c257bedb1cb",
   "metadata": {},
   "source": [
    "ngram_args = dict(pad_right=True, pad_left=True, left_pad_symbol=pads[0], right_pad_symbol=pads[1])\n",
    "train_ngrams = [[] for i in range(ngram_order)]\n",
    "for j in range(ngram_order):\n",
    "    train_ngrams[j] = [nltk.ngrams(sent, n=j+1, **ngram_args) for sent in df.sent_str]"
   ]
  },
  {
   "cell_type": "raw",
   "id": "669dbbe5-5139-4eae-97ad-f2f70160e5c9",
   "metadata": {},
   "source": [
    "len(train_ngrams[0]), len(train_ngrams[1]), len(train_ngrams[2])"
   ]
  },
  {
   "cell_type": "raw",
   "id": "eb850f2f-8248-4460-852b-a3a1c70052f6",
   "metadata": {},
   "source": [
    "1) most common\n",
    "fdist = FreqDist(['hi','my','name','is','my','name'])\n",
    "fdist.most_common(2)\n",
    "\n",
    "2) frequency count\n",
    ">>> from nltk import *\n",
    ">>> fdist = FreqDist(['hi','my','name','is','my','name'])\n",
    ">>> fdist\n",
    "FreqDist({'my': 2, 'name':2, 'is':1, 'hi':1}"
   ]
  },
  {
   "cell_type": "raw",
   "id": "74aeeb8c-192f-4923-bdcd-76a80f378000",
   "metadata": {},
   "source": [
    "enumerate(train_ngrams[0])"
   ]
  },
  {
   "cell_type": "raw",
   "id": "08ac9dc3-341d-4a6c-88fa-738639828ac1",
   "metadata": {},
   "source": [
    "ng_cols = ['token_num', 'word_pos', 'token']\n",
    "ng_data = [[] for n in range(ngram_order)]\n",
    "ng_df = [None for n in range(ngram_order)]\n",
    "\n",
    "for n in range(ngram_order):\n",
    "    for i, z in enumerate(train_ngrams[n]):\n",
    "        # print(i, z)\n",
    "        for j, x in enumerate(z):\n",
    "            print(j, x)\n",
    "            for k, token in enumerate(list(x)):\n",
    "                # print(k, token)\n",
    "                ng_data[n].append((i, j, f\"w{k}\", token))\n",
    "                \n",
    "    ng_df[n] = pd.DataFrame(ng_data[n], columns=ng_cols).set_index(ng_cols[:-1]).unstack()\n",
    "    ng_df[n].columns = ng_df[n].columns.droplevel(0)"
   ]
  },
  {
   "cell_type": "code",
   "execution_count": null,
   "id": "c8161002-866d-440e-87bc-953185ed8717",
   "metadata": {},
   "outputs": [],
   "source": []
  }
 ],
 "metadata": {
  "kernelspec": {
   "display_name": "Python 3 (ipykernel)",
   "language": "python",
   "name": "python3"
  },
  "language_info": {
   "codemirror_mode": {
    "name": "ipython",
    "version": 3
   },
   "file_extension": ".py",
   "mimetype": "text/x-python",
   "name": "python",
   "nbconvert_exporter": "python",
   "pygments_lexer": "ipython3",
   "version": "3.11.4"
  }
 },
 "nbformat": 4,
 "nbformat_minor": 5
}
