{
 "cells": [
  {
   "cell_type": "code",
   "execution_count": 1,
   "id": "d01d7573-8b80-4087-8611-e8674e556c5a",
   "metadata": {},
   "outputs": [],
   "source": [
    "default_path = \"C:/Users/jacqu/Downloads/\"\n",
    "source_path = default_path+\"trials/101_cases_pdf\"\n",
    "destination_path = default_path+\"trials/101_cases_txt\""
   ]
  },
  {
   "cell_type": "code",
   "execution_count": 2,
   "id": "efb73aaf-2434-4194-8b60-042a86cd9611",
   "metadata": {},
   "outputs": [],
   "source": [
    "import sys\n",
    "sys.path.append(\"C:/Users/jacqu/OneDrive/Documents/MSDS-at-UVA-2023/Projects/Capstone/Spring 24\") \n",
    "from extraction_run import Extraction"
   ]
  },
  {
   "cell_type": "code",
   "execution_count": 3,
   "id": "2e9a1229-c83c-41f1-8376-66419a418bcf",
   "metadata": {},
   "outputs": [],
   "source": [
    "mydf = Extraction(source_path, destination_path)"
   ]
  },
  {
   "cell_type": "raw",
   "id": "a77992a9-9b62-4dc8-bd26-e66ee42c181b",
   "metadata": {},
   "source": [
    "mydf.process_pdfs()"
   ]
  },
  {
   "cell_type": "code",
   "execution_count": 4,
   "id": "2c1ce710-8280-45bf-84db-1e3793e7c354",
   "metadata": {},
   "outputs": [],
   "source": [
    "INFO = mydf.create_info()"
   ]
  },
  {
   "cell_type": "code",
   "execution_count": 5,
   "id": "c3cae933-7c56-48e9-95f8-30716f7f7258",
   "metadata": {},
   "outputs": [
    {
     "data": {
      "text/plain": [
       "(102, 3)"
      ]
     },
     "execution_count": 5,
     "metadata": {},
     "output_type": "execute_result"
    }
   ],
   "source": [
    "mydf.INFO.shape"
   ]
  },
  {
   "cell_type": "code",
   "execution_count": 6,
   "id": "c77f2836-b9de-41c8-adef-86540511593c",
   "metadata": {},
   "outputs": [],
   "source": [
    "index_list_df1 = INFO.index"
   ]
  },
  {
   "cell_type": "code",
   "execution_count": 7,
   "id": "94f5e781-b351-446c-8af1-ebd365771d95",
   "metadata": {},
   "outputs": [],
   "source": [
    "import pandas as pd\n",
    "import numpy as np"
   ]
  },
  {
   "cell_type": "code",
   "execution_count": 8,
   "id": "d7f14732-b7cb-4f7d-ad99-24f1f9a2e9b5",
   "metadata": {},
   "outputs": [
    {
     "data": {
      "text/plain": [
       "(101, 2)"
      ]
     },
     "execution_count": 8,
     "metadata": {},
     "output_type": "execute_result"
    }
   ],
   "source": [
    "labels = pd.read_csv(default_path+\"trials/updated_101_cases.csv\")\n",
    "labels.shape"
   ]
  },
  {
   "cell_type": "code",
   "execution_count": 9,
   "id": "deaa4eb5-da38-4a92-892c-6b7bb0d96ba2",
   "metadata": {},
   "outputs": [],
   "source": [
    "labels.set_index('CaseName', inplace=True)"
   ]
  },
  {
   "cell_type": "code",
   "execution_count": 10,
   "id": "59bce48e-c42c-4331-b9b5-7c249afb671e",
   "metadata": {},
   "outputs": [],
   "source": [
    "index_list_df2 = labels.index"
   ]
  },
  {
   "attachments": {},
   "cell_type": "markdown",
   "id": "f24ea7db-e19b-4534-815b-7bc247b43bb9",
   "metadata": {},
   "source": [
    "### Grace\n",
    "I changed the csv file for three things: \n",
    "<ol>\n",
    "    <li>S.Y. v. Wyndham Hotels(2) ==> S. Y. v. Wyndham Hotels(2)</li>\n",
    "    <li>S.Y. v. Wyndham Hotels(3) ==> S. Y. v. Wyndham Hotels(3)</li>\n",
    "    <li>People v. Lamb_ 37 N.Y.3d 1174.PDF ==> People v. Lamb_ 37 N.Y.3d 1174.pdf</li>\n",
    "    <li>Samsung Fire _ Marine Ins. Co., Ltd. v. UFVS Mgmt. Co., LLC, 2023 U.S. Dist. LEXIS 46508.pdf ==> Samsung Fire & Marine Ins. Co., Ltd. v. UFVS Mgmt. Co., LLC, 2023 U.S. Dist. LEXIS 46508.pdf</li>\n",
    "\n",
    "</ol>"
   ]
  },
  {
   "cell_type": "code",
   "execution_count": 11,
   "id": "636da45c-423d-404f-a5e1-40dc0d0b6e6f",
   "metadata": {},
   "outputs": [
    {
     "data": {
      "text/html": [
       "<div>\n",
       "<style scoped>\n",
       "    .dataframe tbody tr th:only-of-type {\n",
       "        vertical-align: middle;\n",
       "    }\n",
       "\n",
       "    .dataframe tbody tr th {\n",
       "        vertical-align: top;\n",
       "    }\n",
       "\n",
       "    .dataframe thead th {\n",
       "        text-align: right;\n",
       "    }\n",
       "</style>\n",
       "<table border=\"1\" class=\"dataframe\">\n",
       "  <thead>\n",
       "    <tr style=\"text-align: right;\">\n",
       "      <th></th>\n",
       "      <th>label</th>\n",
       "    </tr>\n",
       "    <tr>\n",
       "      <th>file_title</th>\n",
       "      <th></th>\n",
       "    </tr>\n",
       "  </thead>\n",
       "  <tbody>\n",
       "    <tr>\n",
       "      <th>A.B. v. Shilo Inn, Salem, LLC, 2023 U.S. Dist. LEXIS 143289</th>\n",
       "      <td>1</td>\n",
       "    </tr>\n",
       "    <tr>\n",
       "      <th>A.D. v. Best Western Int_l, Inc., 2023 U.S. Dist. LEXIS 150376</th>\n",
       "      <td>1</td>\n",
       "    </tr>\n",
       "    <tr>\n",
       "      <th>A.D. v. Choice Hotels Int_l, Inc., 2023 U.S. Dist. LEXIS 150380</th>\n",
       "      <td>1</td>\n",
       "    </tr>\n",
       "    <tr>\n",
       "      <th>A.D. v. Choice Hotels Int_l, Inc., 2023 U.S. Dist. LEXIS 150391</th>\n",
       "      <td>1</td>\n",
       "    </tr>\n",
       "    <tr>\n",
       "      <th>A.D. v. Choice Hotels Int_l, Inc., 2023 U.S. Dist. LEXIS 150397</th>\n",
       "      <td>1</td>\n",
       "    </tr>\n",
       "    <tr>\n",
       "      <th>...</th>\n",
       "      <td>...</td>\n",
       "    </tr>\n",
       "    <tr>\n",
       "      <th>Vidal v. Galaxy 2439 Enters., LLC, 2023 U.S. Dist. LEXIS 217264</th>\n",
       "      <td>0</td>\n",
       "    </tr>\n",
       "    <tr>\n",
       "      <th>Williams v. Sisolak, 2023 U.S. App. LEXIS 32338</th>\n",
       "      <td>1</td>\n",
       "    </tr>\n",
       "    <tr>\n",
       "      <th>Wilson v. Conn. DOT, 2023 U.S. Dist. LEXIS 217795</th>\n",
       "      <td>0</td>\n",
       "    </tr>\n",
       "    <tr>\n",
       "      <th>Wisdom v. Perez, 2023 U.S. Dist. LEXIS 217366</th>\n",
       "      <td>0</td>\n",
       "    </tr>\n",
       "    <tr>\n",
       "      <th>Woodhull Freedom Found. v. United States, 72 F.4th 1286</th>\n",
       "      <td>1</td>\n",
       "    </tr>\n",
       "  </tbody>\n",
       "</table>\n",
       "<p>101 rows × 1 columns</p>\n",
       "</div>"
      ],
      "text/plain": [
       "                                                    label\n",
       "file_title                                               \n",
       "A.B. v. Shilo Inn, Salem, LLC, 2023 U.S. Dist. ...      1\n",
       "A.D. v. Best Western Int_l, Inc., 2023 U.S. Dis...      1\n",
       "A.D. v. Choice Hotels Int_l, Inc., 2023 U.S. Di...      1\n",
       "A.D. v. Choice Hotels Int_l, Inc., 2023 U.S. Di...      1\n",
       "A.D. v. Choice Hotels Int_l, Inc., 2023 U.S. Di...      1\n",
       "...                                                   ...\n",
       "Vidal v. Galaxy 2439 Enters., LLC, 2023 U.S. Di...      0\n",
       "Williams v. Sisolak, 2023 U.S. App. LEXIS 32338         1\n",
       "Wilson v. Conn. DOT, 2023 U.S. Dist. LEXIS 217795       0\n",
       "Wisdom v. Perez, 2023 U.S. Dist. LEXIS 217366           0\n",
       "Woodhull Freedom Found. v. United States, 72 F....      1\n",
       "\n",
       "[101 rows x 1 columns]"
      ]
     },
     "execution_count": 11,
     "metadata": {},
     "output_type": "execute_result"
    }
   ],
   "source": [
    "#labels.drop(columns=['Narrative'], inplace=True)\n",
    "labels.index = [each_title.split(\".pdf\")[0].strip() for each_title in labels.index]\n",
    "labels.index.name = 'file_title'\n",
    "# labels.index = labels.index.str.replace(\"'\", \"_\")\n",
    "labels.rename(columns={\"Sex_Trafficking\":\"label\"}, inplace=True)\n",
    "labels"
   ]
  },
  {
   "cell_type": "code",
   "execution_count": 12,
   "id": "20755530-8db6-49a5-89fb-e897f682398a",
   "metadata": {},
   "outputs": [
    {
     "data": {
      "text/plain": [
       "(101, 4)"
      ]
     },
     "execution_count": 12,
     "metadata": {},
     "output_type": "execute_result"
    }
   ],
   "source": [
    "INFO = mydf.add_labels(labels)\n",
    "INFO.shape"
   ]
  },
  {
   "cell_type": "code",
   "execution_count": 13,
   "id": "7ec7b04a-0b59-4962-bdfc-3f974c3143a8",
   "metadata": {},
   "outputs": [
    {
     "data": {
      "text/html": [
       "<div>\n",
       "<style scoped>\n",
       "    .dataframe tbody tr th:only-of-type {\n",
       "        vertical-align: middle;\n",
       "    }\n",
       "\n",
       "    .dataframe tbody tr th {\n",
       "        vertical-align: top;\n",
       "    }\n",
       "\n",
       "    .dataframe thead th {\n",
       "        text-align: right;\n",
       "    }\n",
       "</style>\n",
       "<table border=\"1\" class=\"dataframe\">\n",
       "  <thead>\n",
       "    <tr style=\"text-align: right;\">\n",
       "      <th></th>\n",
       "      <th>pdf_path</th>\n",
       "      <th>txt_path</th>\n",
       "      <th>narrative</th>\n",
       "      <th>label</th>\n",
       "    </tr>\n",
       "    <tr>\n",
       "      <th>file_title</th>\n",
       "      <th></th>\n",
       "      <th></th>\n",
       "      <th></th>\n",
       "      <th></th>\n",
       "    </tr>\n",
       "  </thead>\n",
       "  <tbody>\n",
       "    <tr>\n",
       "      <th>A.B. v. Shilo Inn, Salem, LLC, 2023 U.S. Dist. LEXIS 143289</th>\n",
       "      <td>C:/Users/jacqu/Downloads/trials/101_cases_pdf</td>\n",
       "      <td>C:/Users/jacqu/Downloads/trials/101_cases_txt</td>\n",
       "      <td>OPINION AND ORDER GRANTING DEFENDANT  SUMMIT H...</td>\n",
       "      <td>1</td>\n",
       "    </tr>\n",
       "    <tr>\n",
       "      <th>A.D. v. Best Western Int_l, Inc., 2023 U.S. Dist. LEXIS 150376</th>\n",
       "      <td>C:/Users/jacqu/Downloads/trials/101_cases_pdf</td>\n",
       "      <td>C:/Users/jacqu/Downloads/trials/101_cases_txt</td>\n",
       "      <td>OPINION AND ORDER This matter comes before the...</td>\n",
       "      <td>1</td>\n",
       "    </tr>\n",
       "    <tr>\n",
       "      <th>A.D. v. Choice Hotels Int_l, Inc., 2023 U.S. Dist. LEXIS 150380</th>\n",
       "      <td>C:/Users/jacqu/Downloads/trials/101_cases_pdf</td>\n",
       "      <td>C:/Users/jacqu/Downloads/trials/101_cases_txt</td>\n",
       "      <td>OPINION AND ORDER This matter comes before the...</td>\n",
       "      <td>1</td>\n",
       "    </tr>\n",
       "    <tr>\n",
       "      <th>A.D. v. Choice Hotels Int_l, Inc., 2023 U.S. Dist. LEXIS 150391</th>\n",
       "      <td>C:/Users/jacqu/Downloads/trials/101_cases_pdf</td>\n",
       "      <td>C:/Users/jacqu/Downloads/trials/101_cases_txt</td>\n",
       "      <td>OPINION AND ORDER This matter comes before the...</td>\n",
       "      <td>1</td>\n",
       "    </tr>\n",
       "    <tr>\n",
       "      <th>A.D. v. Choice Hotels Int_l, Inc., 2023 U.S. Dist. LEXIS 150397</th>\n",
       "      <td>C:/Users/jacqu/Downloads/trials/101_cases_pdf</td>\n",
       "      <td>C:/Users/jacqu/Downloads/trials/101_cases_txt</td>\n",
       "      <td>OPINION AND ORDER This matter comes before the...</td>\n",
       "      <td>1</td>\n",
       "    </tr>\n",
       "  </tbody>\n",
       "</table>\n",
       "</div>"
      ],
      "text/plain": [
       "                                                                                         pdf_path  \\\n",
       "file_title                                                                                          \n",
       "A.B. v. Shilo Inn, Salem, LLC, 2023 U.S. Dist. ...  C:/Users/jacqu/Downloads/trials/101_cases_pdf   \n",
       "A.D. v. Best Western Int_l, Inc., 2023 U.S. Dis...  C:/Users/jacqu/Downloads/trials/101_cases_pdf   \n",
       "A.D. v. Choice Hotels Int_l, Inc., 2023 U.S. Di...  C:/Users/jacqu/Downloads/trials/101_cases_pdf   \n",
       "A.D. v. Choice Hotels Int_l, Inc., 2023 U.S. Di...  C:/Users/jacqu/Downloads/trials/101_cases_pdf   \n",
       "A.D. v. Choice Hotels Int_l, Inc., 2023 U.S. Di...  C:/Users/jacqu/Downloads/trials/101_cases_pdf   \n",
       "\n",
       "                                                                                         txt_path  \\\n",
       "file_title                                                                                          \n",
       "A.B. v. Shilo Inn, Salem, LLC, 2023 U.S. Dist. ...  C:/Users/jacqu/Downloads/trials/101_cases_txt   \n",
       "A.D. v. Best Western Int_l, Inc., 2023 U.S. Dis...  C:/Users/jacqu/Downloads/trials/101_cases_txt   \n",
       "A.D. v. Choice Hotels Int_l, Inc., 2023 U.S. Di...  C:/Users/jacqu/Downloads/trials/101_cases_txt   \n",
       "A.D. v. Choice Hotels Int_l, Inc., 2023 U.S. Di...  C:/Users/jacqu/Downloads/trials/101_cases_txt   \n",
       "A.D. v. Choice Hotels Int_l, Inc., 2023 U.S. Di...  C:/Users/jacqu/Downloads/trials/101_cases_txt   \n",
       "\n",
       "                                                                                            narrative  \\\n",
       "file_title                                                                                              \n",
       "A.B. v. Shilo Inn, Salem, LLC, 2023 U.S. Dist. ...  OPINION AND ORDER GRANTING DEFENDANT  SUMMIT H...   \n",
       "A.D. v. Best Western Int_l, Inc., 2023 U.S. Dis...  OPINION AND ORDER This matter comes before the...   \n",
       "A.D. v. Choice Hotels Int_l, Inc., 2023 U.S. Di...  OPINION AND ORDER This matter comes before the...   \n",
       "A.D. v. Choice Hotels Int_l, Inc., 2023 U.S. Di...  OPINION AND ORDER This matter comes before the...   \n",
       "A.D. v. Choice Hotels Int_l, Inc., 2023 U.S. Di...  OPINION AND ORDER This matter comes before the...   \n",
       "\n",
       "                                                    label  \n",
       "file_title                                                 \n",
       "A.B. v. Shilo Inn, Salem, LLC, 2023 U.S. Dist. ...      1  \n",
       "A.D. v. Best Western Int_l, Inc., 2023 U.S. Dis...      1  \n",
       "A.D. v. Choice Hotels Int_l, Inc., 2023 U.S. Di...      1  \n",
       "A.D. v. Choice Hotels Int_l, Inc., 2023 U.S. Di...      1  \n",
       "A.D. v. Choice Hotels Int_l, Inc., 2023 U.S. Di...      1  "
      ]
     },
     "execution_count": 13,
     "metadata": {},
     "output_type": "execute_result"
    }
   ],
   "source": [
    "INFO.head()"
   ]
  },
  {
   "cell_type": "code",
   "execution_count": 14,
   "id": "788eccec-956b-4a53-80fd-528e88e81a51",
   "metadata": {},
   "outputs": [],
   "source": [
    "from model_run2 import Model"
   ]
  },
  {
   "cell_type": "code",
   "execution_count": 15,
   "id": "21ab6163-69ed-4f44-93ec-0bf648af58bb",
   "metadata": {},
   "outputs": [],
   "source": [
    "mymodel = Model(INFO, overwrite=True)\n",
    "tfidf = mymodel.vec_engine(ngram_range=(1,2))"
   ]
  },
  {
   "cell_type": "code",
   "execution_count": 16,
   "id": "9c08d8e3-3760-45e3-b02e-52292560bddb",
   "metadata": {},
   "outputs": [
    {
     "data": {
      "text/html": [
       "<div>\n",
       "<style scoped>\n",
       "    .dataframe tbody tr th:only-of-type {\n",
       "        vertical-align: middle;\n",
       "    }\n",
       "\n",
       "    .dataframe tbody tr th {\n",
       "        vertical-align: top;\n",
       "    }\n",
       "\n",
       "    .dataframe thead th {\n",
       "        text-align: right;\n",
       "    }\n",
       "</style>\n",
       "<table border=\"1\" class=\"dataframe\">\n",
       "  <thead>\n",
       "    <tr style=\"text-align: right;\">\n",
       "      <th>label</th>\n",
       "      <th>0</th>\n",
       "      <th>1</th>\n",
       "    </tr>\n",
       "  </thead>\n",
       "  <tbody>\n",
       "    <tr>\n",
       "      <th>00</th>\n",
       "      <td>0.003087</td>\n",
       "      <td>0.001307</td>\n",
       "    </tr>\n",
       "    <tr>\n",
       "      <th>00 00</th>\n",
       "      <td>0.000499</td>\n",
       "      <td>0.000163</td>\n",
       "    </tr>\n",
       "    <tr>\n",
       "      <th>00 0165</th>\n",
       "      <td>0.000091</td>\n",
       "      <td>0.000000</td>\n",
       "    </tr>\n",
       "    <tr>\n",
       "      <th>00 1241</th>\n",
       "      <td>0.000091</td>\n",
       "      <td>0.000000</td>\n",
       "    </tr>\n",
       "    <tr>\n",
       "      <th>00 13</th>\n",
       "      <td>0.000000</td>\n",
       "      <td>0.000192</td>\n",
       "    </tr>\n",
       "  </tbody>\n",
       "</table>\n",
       "</div>"
      ],
      "text/plain": [
       "label           0         1\n",
       "00       0.003087  0.001307\n",
       "00 00    0.000499  0.000163\n",
       "00 0165  0.000091  0.000000\n",
       "00 1241  0.000091  0.000000\n",
       "00 13    0.000000  0.000192"
      ]
     },
     "execution_count": 16,
     "metadata": {},
     "output_type": "execute_result"
    }
   ],
   "source": [
    "tfidf_df = tfidf.T\n",
    "tfidf_df.head()"
   ]
  },
  {
   "cell_type": "code",
   "execution_count": 17,
   "id": "ec97f511-a42f-4479-97b0-8a08a2ee7149",
   "metadata": {},
   "outputs": [
    {
     "data": {
      "image/png": "[encoded data removed]",
      "text/plain": [
       "<Figure size 640x480 with 1 Axes>"
      ]
     },
     "metadata": {},
     "output_type": "display_data"
    }
   ],
   "source": [
    "import matplotlib.pyplot as plt\n",
    "import numpy as np\n",
    "\n",
    "categories = tfidf_df.index\n",
    "values1 = tfidf_df[0]\n",
    "values2 = tfidf_df[1]\n",
    "\n",
    "# Calculate the absolute difference \n",
    "diff_values = np.abs(np.array(values1) - np.array(values2))\n",
    "\n",
    "# Get the indices of the top 10 largest differences\n",
    "top_indices = np.argsort(diff_values)[-10:][::-1] \n",
    "\n",
    "# Get the top 10 categories, values1, and values2 based on the indices\n",
    "top_categories = [categories[i] for i in top_indices]\n",
    "top_values1 = [values1[i] for i in top_indices]\n",
    "top_values2 = [values2[i] for i in top_indices]\n",
    "\n",
    "# Sort data by the greatest difference to smallest difference\n",
    "sorted_indices = np.argsort(diff_values[top_indices])[::-1]\n",
    "sorted_categories = [top_categories[i] for i in sorted_indices]\n",
    "sorted_values1 = [top_values1[i] for i in sorted_indices]\n",
    "sorted_values2 = [top_values2[i] for i in sorted_indices]\n",
    "\n",
    "# Set the width of the bars\n",
    "bar_width = 0.35\n",
    "\n",
    "# Set the positions of the bars on the y-axis\n",
    "y = np.arange(len(sorted_categories))\n",
    "\n",
    "# Create the grouped bar plot with sorted axis\n",
    "plt.barh(y - bar_width/2, sorted_values1, height=bar_width, label='Group 0')\n",
    "plt.barh(y + bar_width/2, sorted_values2, height=bar_width, label='Group 1')\n",
    "\n",
    "# Add labels, title, and legend\n",
    "plt.xlabel('Mean TFIDF')\n",
    "plt.ylabel('N-Gram')\n",
    "plt.title('Difference Between Sex Trafficking and Non Sex Trafficking N-Grams')\n",
    "plt.yticks(y, top_categories)\n",
    "plt.legend()\n",
    "    \n",
    "# Show the plot\n",
    "plt.show()"
   ]
  },
  {
   "cell_type": "code",
   "execution_count": 18,
   "id": "6c6e67cf-b6ce-4abd-a71b-29c2cb16cdce",
   "metadata": {},
   "outputs": [
    {
     "name": "stdout",
     "output_type": "stream",
     "text": [
      "Accuracy after tuning: 0.8095238095238095\n"
     ]
    }
   ],
   "source": [
    "mymodel.log_class_train()"
   ]
  }
 ],
 "metadata": {
  "kernelspec": {
   "display_name": "Python 3 (ipykernel)",
   "language": "python",
   "name": "python3"
  },
  "language_info": {
   "codemirror_mode": {
    "name": "ipython",
    "version": 3
   },
   "file_extension": ".py",
   "mimetype": "text/x-python",
   "name": "python",
   "nbconvert_exporter": "python",
   "pygments_lexer": "ipython3",
   "version": "3.11.4"
  }
 },
 "nbformat": 4,
 "nbformat_minor": 5
}
