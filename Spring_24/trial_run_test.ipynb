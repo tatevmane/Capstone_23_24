{
 "cells": [
  {
   "cell_type": "code",
   "execution_count": 5,
   "id": "03955ec7-ec27-4501-ae5b-c9c2fddf6f8c",
   "metadata": {},
   "outputs": [],
   "source": [
    "source_path = \"C:/Users/jacqu/Downloads/Court Case PDFs/Court Case PDFs\"\n",
    "destination_path = \"C:/Users/jacqu/Downloads/Court Case PDFs/Court Case TXTs\""
   ]
  },
  {
   "cell_type": "code",
   "execution_count": 6,
   "id": "8608e362-4c86-4944-b53f-fd3416789159",
   "metadata": {},
   "outputs": [],
   "source": [
    "import sys\n",
    "sys.path.append(\"C:/Users/jacqu/OneDrive/Documents/MSDS-at-UVA-2023/Projects/Capstone/Spring 24\") \n",
    "from extraction_run import Extraction"
   ]
  },
  {
   "cell_type": "code",
   "execution_count": 7,
   "id": "64dc7b23-6c42-4b83-b653-b1d08aecc30d",
   "metadata": {},
   "outputs": [],
   "source": [
    "mydf = Extraction(source_path, destination_path)"
   ]
  },
  {
   "cell_type": "code",
   "execution_count": 8,
   "id": "b94b7293-d7fb-445c-8de8-d866ded31988",
   "metadata": {},
   "outputs": [
    {
     "data": {
      "text/plain": [
       "['C:/Users/jacqu/Downloads/Court Case PDFs/Court Case TXTs\\\\A.B. v. Shilo Inn, Salem, LLC, 2023 U.S. Dist. LEXIS 143289.txt',\n",
       " 'C:/Users/jacqu/Downloads/Court Case PDFs/Court Case TXTs\\\\A.D. v. Best Western Int_l, Inc., 2023 U.S. Dist. LEXIS 150376.txt',\n",
       " 'C:/Users/jacqu/Downloads/Court Case PDFs/Court Case TXTs\\\\A.D. v. Choice Hotels Int_l, Inc., 2023 U.S. Dist. LEXIS 150380.txt',\n",
       " 'C:/Users/jacqu/Downloads/Court Case PDFs/Court Case TXTs\\\\B.M. v. Wyndham Hotels.txt',\n",
       " 'C:/Users/jacqu/Downloads/Court Case PDFs/Court Case TXTs\\\\Bacon v. Marshall, 2023 U.S. App. LEXIS 32309.txt']"
      ]
     },
     "execution_count": 8,
     "metadata": {},
     "output_type": "execute_result"
    }
   ],
   "source": [
    "from glob import glob\n",
    "import os\n",
    "glob(os.path.join(destination_path, \"*.txt\"))[:5]"
   ]
  },
  {
   "cell_type": "code",
   "execution_count": 9,
   "id": "6f27cec6-dc19-4b72-aafc-92b685b73b31",
   "metadata": {},
   "outputs": [
    {
     "data": {
      "text/html": [
       "<div>\n",
       "<style scoped>\n",
       "    .dataframe tbody tr th:only-of-type {\n",
       "        vertical-align: middle;\n",
       "    }\n",
       "\n",
       "    .dataframe tbody tr th {\n",
       "        vertical-align: top;\n",
       "    }\n",
       "\n",
       "    .dataframe thead th {\n",
       "        text-align: right;\n",
       "    }\n",
       "</style>\n",
       "<table border=\"1\" class=\"dataframe\">\n",
       "  <thead>\n",
       "    <tr style=\"text-align: right;\">\n",
       "      <th></th>\n",
       "      <th>pdf_path</th>\n",
       "      <th>txt_path</th>\n",
       "    </tr>\n",
       "    <tr>\n",
       "      <th>file_title</th>\n",
       "      <th></th>\n",
       "      <th></th>\n",
       "    </tr>\n",
       "  </thead>\n",
       "  <tbody>\n",
       "    <tr>\n",
       "      <th>A.B. v. Shilo Inn, Salem, LLC, 2023 U.S. Dist. LEXIS 143289</th>\n",
       "      <td>C:/Users/jacqu/Downloads/Court Case PDFs/Court...</td>\n",
       "      <td>C:/Users/jacqu/Downloads/Court Case PDFs/Court...</td>\n",
       "    </tr>\n",
       "    <tr>\n",
       "      <th>A.D. v. Best Western Int_l, Inc., 2023 U.S. Dist. LEXIS 150376</th>\n",
       "      <td>C:/Users/jacqu/Downloads/Court Case PDFs/Court...</td>\n",
       "      <td>C:/Users/jacqu/Downloads/Court Case PDFs/Court...</td>\n",
       "    </tr>\n",
       "    <tr>\n",
       "      <th>A.D. v. Choice Hotels Int_l, Inc., 2023 U.S. Dist. LEXIS 150380</th>\n",
       "      <td>C:/Users/jacqu/Downloads/Court Case PDFs/Court...</td>\n",
       "      <td>C:/Users/jacqu/Downloads/Court Case PDFs/Court...</td>\n",
       "    </tr>\n",
       "    <tr>\n",
       "      <th>B.M. v. Wyndham Hotels</th>\n",
       "      <td>C:/Users/jacqu/Downloads/Court Case PDFs/Court...</td>\n",
       "      <td>C:/Users/jacqu/Downloads/Court Case PDFs/Court...</td>\n",
       "    </tr>\n",
       "    <tr>\n",
       "      <th>Bacon v. Marshall, 2023 U.S. App. LEXIS 32309</th>\n",
       "      <td>C:/Users/jacqu/Downloads/Court Case PDFs/Court...</td>\n",
       "      <td>C:/Users/jacqu/Downloads/Court Case PDFs/Court...</td>\n",
       "    </tr>\n",
       "    <tr>\n",
       "      <th>...</th>\n",
       "      <td>...</td>\n",
       "      <td>...</td>\n",
       "    </tr>\n",
       "    <tr>\n",
       "      <th>United States v. Woods, 2021 U.S. Dist. LEXIS 81858</th>\n",
       "      <td>C:/Users/jacqu/Downloads/Court Case PDFs/Court...</td>\n",
       "      <td>C:/Users/jacqu/Downloads/Court Case PDFs/Court...</td>\n",
       "    </tr>\n",
       "    <tr>\n",
       "      <th>Vidal v. Galaxy 2439 Enters., LLC, 2023 U.S. Dist. LEXIS 217264</th>\n",
       "      <td>C:/Users/jacqu/Downloads/Court Case PDFs/Court...</td>\n",
       "      <td>C:/Users/jacqu/Downloads/Court Case PDFs/Court...</td>\n",
       "    </tr>\n",
       "    <tr>\n",
       "      <th>Williams v. Sisolak, 2023 U.S. App. LEXIS 32338</th>\n",
       "      <td>C:/Users/jacqu/Downloads/Court Case PDFs/Court...</td>\n",
       "      <td>C:/Users/jacqu/Downloads/Court Case PDFs/Court...</td>\n",
       "    </tr>\n",
       "    <tr>\n",
       "      <th>Wilson v. Conn. DOT, 2023 U.S. Dist. LEXIS 217795</th>\n",
       "      <td>C:/Users/jacqu/Downloads/Court Case PDFs/Court...</td>\n",
       "      <td>C:/Users/jacqu/Downloads/Court Case PDFs/Court...</td>\n",
       "    </tr>\n",
       "    <tr>\n",
       "      <th>Wisdom v. Perez, 2023 U.S. Dist. LEXIS 217366</th>\n",
       "      <td>C:/Users/jacqu/Downloads/Court Case PDFs/Court...</td>\n",
       "      <td>C:/Users/jacqu/Downloads/Court Case PDFs/Court...</td>\n",
       "    </tr>\n",
       "  </tbody>\n",
       "</table>\n",
       "<p>77 rows × 2 columns</p>\n",
       "</div>"
      ],
      "text/plain": [
       "                                                                                             pdf_path  \\\n",
       "file_title                                                                                              \n",
       "A.B. v. Shilo Inn, Salem, LLC, 2023 U.S. Dist. ...  C:/Users/jacqu/Downloads/Court Case PDFs/Court...   \n",
       "A.D. v. Best Western Int_l, Inc., 2023 U.S. Dis...  C:/Users/jacqu/Downloads/Court Case PDFs/Court...   \n",
       "A.D. v. Choice Hotels Int_l, Inc., 2023 U.S. Di...  C:/Users/jacqu/Downloads/Court Case PDFs/Court...   \n",
       "B.M. v. Wyndham Hotels                              C:/Users/jacqu/Downloads/Court Case PDFs/Court...   \n",
       "Bacon v. Marshall, 2023 U.S. App. LEXIS 32309       C:/Users/jacqu/Downloads/Court Case PDFs/Court...   \n",
       "...                                                                                               ...   \n",
       "United States v. Woods, 2021 U.S. Dist. LEXIS 8...  C:/Users/jacqu/Downloads/Court Case PDFs/Court...   \n",
       "Vidal v. Galaxy 2439 Enters., LLC, 2023 U.S. Di...  C:/Users/jacqu/Downloads/Court Case PDFs/Court...   \n",
       "Williams v. Sisolak, 2023 U.S. App. LEXIS 32338     C:/Users/jacqu/Downloads/Court Case PDFs/Court...   \n",
       "Wilson v. Conn. DOT, 2023 U.S. Dist. LEXIS 217795   C:/Users/jacqu/Downloads/Court Case PDFs/Court...   \n",
       "Wisdom v. Perez, 2023 U.S. Dist. LEXIS 217366       C:/Users/jacqu/Downloads/Court Case PDFs/Court...   \n",
       "\n",
       "                                                                                             txt_path  \n",
       "file_title                                                                                             \n",
       "A.B. v. Shilo Inn, Salem, LLC, 2023 U.S. Dist. ...  C:/Users/jacqu/Downloads/Court Case PDFs/Court...  \n",
       "A.D. v. Best Western Int_l, Inc., 2023 U.S. Dis...  C:/Users/jacqu/Downloads/Court Case PDFs/Court...  \n",
       "A.D. v. Choice Hotels Int_l, Inc., 2023 U.S. Di...  C:/Users/jacqu/Downloads/Court Case PDFs/Court...  \n",
       "B.M. v. Wyndham Hotels                              C:/Users/jacqu/Downloads/Court Case PDFs/Court...  \n",
       "Bacon v. Marshall, 2023 U.S. App. LEXIS 32309       C:/Users/jacqu/Downloads/Court Case PDFs/Court...  \n",
       "...                                                                                               ...  \n",
       "United States v. Woods, 2021 U.S. Dist. LEXIS 8...  C:/Users/jacqu/Downloads/Court Case PDFs/Court...  \n",
       "Vidal v. Galaxy 2439 Enters., LLC, 2023 U.S. Di...  C:/Users/jacqu/Downloads/Court Case PDFs/Court...  \n",
       "Williams v. Sisolak, 2023 U.S. App. LEXIS 32338     C:/Users/jacqu/Downloads/Court Case PDFs/Court...  \n",
       "Wilson v. Conn. DOT, 2023 U.S. Dist. LEXIS 217795   C:/Users/jacqu/Downloads/Court Case PDFs/Court...  \n",
       "Wisdom v. Perez, 2023 U.S. Dist. LEXIS 217366       C:/Users/jacqu/Downloads/Court Case PDFs/Court...  \n",
       "\n",
       "[77 rows x 2 columns]"
      ]
     },
     "execution_count": 9,
     "metadata": {},
     "output_type": "execute_result"
    }
   ],
   "source": [
    "mydf.create_info()"
   ]
  },
  {
   "cell_type": "code",
   "execution_count": null,
   "id": "edb00e41-529b-4ab8-9786-ca567d24e4b9",
   "metadata": {},
   "outputs": [],
   "source": []
  }
 ],
 "metadata": {
  "kernelspec": {
   "display_name": "Python 3 (ipykernel)",
   "language": "python",
   "name": "python3"
  },
  "language_info": {
   "codemirror_mode": {
    "name": "ipython",
    "version": 3
   },
   "file_extension": ".py",
   "mimetype": "text/x-python",
   "name": "python",
   "nbconvert_exporter": "python",
   "pygments_lexer": "ipython3",
   "version": "3.11.4"
  }
 },
 "nbformat": 4,
 "nbformat_minor": 5
}
