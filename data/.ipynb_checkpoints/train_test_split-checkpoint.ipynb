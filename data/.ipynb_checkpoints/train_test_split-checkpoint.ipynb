{
 "cells": [
  {
   "cell_type": "code",
   "execution_count": 1,
   "id": "dab8bc53-ae50-409b-8a5d-fa35ff84af84",
   "metadata": {},
   "outputs": [],
   "source": [
    "default_path = \"C:/Users/jacqu/Downloads/\"\n",
    "## doesn't exist technically...\n",
    "source_path = default_path+\"trials/241_cases_pdf\"\n",
    "destination_path = default_path+\"trials/241_cases_txt\"\n",
    "local_path = \"C:/Users/jacqu/OneDrive/Documents/\"\n",
    "csv_path = local_path+\"MSDS-at-UVA-2023/Projects/Capstone/Capstone_23_24/data\""
   ]
  },
  {
   "cell_type": "code",
   "execution_count": 2,
   "id": "740883b8-99a8-4125-99ca-1dce947c3d0b",
   "metadata": {},
   "outputs": [],
   "source": [
    "import sys\n",
    "sys.path.append(local_path+\"MSDS-at-UVA-2023/Projects/Capstone/Capstone_23_24/Spring_24\") \n",
    "from extraction_run import Extraction"
   ]
  },
  {
   "cell_type": "code",
   "execution_count": 3,
   "id": "51a6eb8b-4123-4d89-890f-343d69088e73",
   "metadata": {},
   "outputs": [],
   "source": [
    "mydf = Extraction(source_path, destination_path)"
   ]
  },
  {
   "cell_type": "raw",
   "id": "37bb763a-08cf-47e7-90e4-603fc3304131",
   "metadata": {},
   "source": [
    "mydf.process_pdfs()"
   ]
  },
  {
   "cell_type": "code",
   "execution_count": 4,
   "id": "3bac174c-d0cd-47f4-be4e-4ef149f592af",
   "metadata": {},
   "outputs": [],
   "source": [
    "INFO = mydf.create_info()"
   ]
  },
  {
   "cell_type": "code",
   "execution_count": 5,
   "id": "8ea91b6f-e959-45b5-916b-be6859ec28ba",
   "metadata": {},
   "outputs": [
    {
     "data": {
      "text/plain": [
       "(255, 1)"
      ]
     },
     "execution_count": 5,
     "metadata": {},
     "output_type": "execute_result"
    }
   ],
   "source": [
    "mydf.INFO.shape"
   ]
  },
  {
   "cell_type": "code",
   "execution_count": 6,
   "id": "675e3f3e-1bbb-4711-b9c3-2bd3f9f546ec",
   "metadata": {
    "scrolled": true
   },
   "outputs": [
    {
     "data": {
      "text/html": [
       "<div>\n",
       "<style scoped>\n",
       "    .dataframe tbody tr th:only-of-type {\n",
       "        vertical-align: middle;\n",
       "    }\n",
       "\n",
       "    .dataframe tbody tr th {\n",
       "        vertical-align: top;\n",
       "    }\n",
       "\n",
       "    .dataframe thead th {\n",
       "        text-align: right;\n",
       "    }\n",
       "</style>\n",
       "<table border=\"1\" class=\"dataframe\">\n",
       "  <thead>\n",
       "    <tr style=\"text-align: right;\">\n",
       "      <th></th>\n",
       "      <th>narrative</th>\n",
       "    </tr>\n",
       "    <tr>\n",
       "      <th>file_title</th>\n",
       "      <th></th>\n",
       "    </tr>\n",
       "  </thead>\n",
       "  <tbody>\n",
       "    <tr>\n",
       "      <th>A.B. v. Shilo Inn, Salem, LLC, 2023 U.S. Dist. LEXIS 143289</th>\n",
       "      <td>OPINION AND ORDER GRANTING DEFENDANT  SUMMIT H...</td>\n",
       "    </tr>\n",
       "    <tr>\n",
       "      <th>A.D. v. Best Western Int_l, Inc., 2023 U.S. Dist. LEXIS 150376</th>\n",
       "      <td>OPINION AND ORDER This matter comes before the...</td>\n",
       "    </tr>\n",
       "    <tr>\n",
       "      <th>A.D. v. Choice Hotels Int_l, Inc., 2023 U.S. Dist. LEXIS 150380</th>\n",
       "      <td>OPINION AND ORDER This matter comes before the...</td>\n",
       "    </tr>\n",
       "    <tr>\n",
       "      <th>A.D. v. Choice Hotels Int_l, Inc., 2023 U.S. Dist. LEXIS 150391</th>\n",
       "      <td>OPINION AND ORDER This matter comes before the...</td>\n",
       "    </tr>\n",
       "    <tr>\n",
       "      <th>A.D. v. Choice Hotels Int_l, Inc., 2023 U.S. Dist. LEXIS 150397</th>\n",
       "      <td>OPINION AND ORDER This matter comes before the...</td>\n",
       "    </tr>\n",
       "  </tbody>\n",
       "</table>\n",
       "</div>"
      ],
      "text/plain": [
       "                                                                                            narrative\n",
       "file_title                                                                                           \n",
       "A.B. v. Shilo Inn, Salem, LLC, 2023 U.S. Dist. ...  OPINION AND ORDER GRANTING DEFENDANT  SUMMIT H...\n",
       "A.D. v. Best Western Int_l, Inc., 2023 U.S. Dis...  OPINION AND ORDER This matter comes before the...\n",
       "A.D. v. Choice Hotels Int_l, Inc., 2023 U.S. Di...  OPINION AND ORDER This matter comes before the...\n",
       "A.D. v. Choice Hotels Int_l, Inc., 2023 U.S. Di...  OPINION AND ORDER This matter comes before the...\n",
       "A.D. v. Choice Hotels Int_l, Inc., 2023 U.S. Di...  OPINION AND ORDER This matter comes before the..."
      ]
     },
     "execution_count": 6,
     "metadata": {},
     "output_type": "execute_result"
    }
   ],
   "source": [
    "mydf.INFO.head()"
   ]
  },
  {
   "cell_type": "code",
   "execution_count": 7,
   "id": "69e818b1-089f-47b3-8fe0-0fe7b3b9ffd4",
   "metadata": {},
   "outputs": [
    {
     "data": {
      "text/html": [
       "<div>\n",
       "<style scoped>\n",
       "    .dataframe tbody tr th:only-of-type {\n",
       "        vertical-align: middle;\n",
       "    }\n",
       "\n",
       "    .dataframe tbody tr th {\n",
       "        vertical-align: top;\n",
       "    }\n",
       "\n",
       "    .dataframe thead th {\n",
       "        text-align: right;\n",
       "    }\n",
       "</style>\n",
       "<table border=\"1\" class=\"dataframe\">\n",
       "  <thead>\n",
       "    <tr style=\"text-align: right;\">\n",
       "      <th></th>\n",
       "      <th>narrative</th>\n",
       "    </tr>\n",
       "    <tr>\n",
       "      <th>file_title</th>\n",
       "      <th></th>\n",
       "    </tr>\n",
       "  </thead>\n",
       "  <tbody>\n",
       "  </tbody>\n",
       "</table>\n",
       "</div>"
      ],
      "text/plain": [
       "Empty DataFrame\n",
       "Columns: [narrative]\n",
       "Index: []"
      ]
     },
     "execution_count": 7,
     "metadata": {},
     "output_type": "execute_result"
    }
   ],
   "source": [
    "mydf.INFO[mydf.INFO.index.duplicated(keep=False)]"
   ]
  },
  {
   "cell_type": "code",
   "execution_count": 8,
   "id": "d189d9d7-4234-4489-a2b2-c256c38dbee2",
   "metadata": {},
   "outputs": [],
   "source": [
    "import pandas as pd\n",
    "import numpy as np"
   ]
  },
  {
   "cell_type": "code",
   "execution_count": 9,
   "id": "16250db8-9c1d-4944-b2f4-cb7465b9904e",
   "metadata": {},
   "outputs": [
    {
     "data": {
      "text/plain": [
       "(237, 1)"
      ]
     },
     "execution_count": 9,
     "metadata": {},
     "output_type": "execute_result"
    }
   ],
   "source": [
    "labels = pd.read_csv(csv_path+\"/full_df_233.csv\")\n",
    "labels.drop(columns=['Case ID', 'STATE', 'AGENCY', 'CRIME', 'CRIME_MINOR',\n",
    "       'CRIME_ADULT', 'NAME','TRAINING'], inplace=True)\n",
    "labels.set_index('Case Name', inplace=True)\n",
    "labels.shape"
   ]
  },
  {
   "cell_type": "code",
   "execution_count": 10,
   "id": "a7f6ac66-6d9b-4af2-8dd3-84a32fa16c6d",
   "metadata": {},
   "outputs": [
    {
     "data": {
      "text/html": [
       "<div>\n",
       "<style scoped>\n",
       "    .dataframe tbody tr th:only-of-type {\n",
       "        vertical-align: middle;\n",
       "    }\n",
       "\n",
       "    .dataframe tbody tr th {\n",
       "        vertical-align: top;\n",
       "    }\n",
       "\n",
       "    .dataframe thead th {\n",
       "        text-align: right;\n",
       "    }\n",
       "</style>\n",
       "<table border=\"1\" class=\"dataframe\">\n",
       "  <thead>\n",
       "    <tr style=\"text-align: right;\">\n",
       "      <th></th>\n",
       "      <th>Sex Trafficking</th>\n",
       "    </tr>\n",
       "    <tr>\n",
       "      <th>Case Name</th>\n",
       "      <th></th>\n",
       "    </tr>\n",
       "  </thead>\n",
       "  <tbody>\n",
       "    <tr>\n",
       "      <th>A.B. v. Shilo Inn, Salem, LLC, 2023 U.S. Dist. LEXIS 143289.pdf</th>\n",
       "      <td>1</td>\n",
       "    </tr>\n",
       "    <tr>\n",
       "      <th>A.D. v. Best Western Int_l, Inc., 2023 U.S. Dist. LEXIS 150376.pdf</th>\n",
       "      <td>1</td>\n",
       "    </tr>\n",
       "    <tr>\n",
       "      <th>A.D. v. Choice Hotels Int_l, Inc., 2023 U.S. Dist. LEXIS 150380.pdf</th>\n",
       "      <td>1</td>\n",
       "    </tr>\n",
       "    <tr>\n",
       "      <th>A.D. v. Choice Hotels Int_l, Inc., 2023 U.S. Dist. LEXIS 150391.pdf</th>\n",
       "      <td>1</td>\n",
       "    </tr>\n",
       "    <tr>\n",
       "      <th>A.D. v. Choice Hotels Int_l, Inc., 2023 U.S. Dist. LEXIS 150397.pdf</th>\n",
       "      <td>1</td>\n",
       "    </tr>\n",
       "  </tbody>\n",
       "</table>\n",
       "</div>"
      ],
      "text/plain": [
       "                                                    Sex Trafficking\n",
       "Case Name                                                          \n",
       "A.B. v. Shilo Inn, Salem, LLC, 2023 U.S. Dist. ...                1\n",
       "A.D. v. Best Western Int_l, Inc., 2023 U.S. Dis...                1\n",
       "A.D. v. Choice Hotels Int_l, Inc., 2023 U.S. Di...                1\n",
       "A.D. v. Choice Hotels Int_l, Inc., 2023 U.S. Di...                1\n",
       "A.D. v. Choice Hotels Int_l, Inc., 2023 U.S. Di...                1"
      ]
     },
     "execution_count": 10,
     "metadata": {},
     "output_type": "execute_result"
    }
   ],
   "source": [
    "labels.head()"
   ]
  },
  {
   "cell_type": "code",
   "execution_count": 11,
   "id": "9cbd9cf4-9c31-4a84-833e-82565590a0f5",
   "metadata": {},
   "outputs": [],
   "source": [
    "#labels.drop(columns=['Narrative'], inplace=True)\n",
    "labels.index = [each_title.split(\".pdf\")[0].strip() for each_title in labels.index]\n",
    "labels.index.name = 'file_title'\n",
    "# labels.index = labels.index.str.replace(\"'\", \"_\")\n",
    "labels = labels[~labels.index.duplicated(keep='first')]\n",
    "labels.rename(columns={\"Sex_Trafficking\":\"label\"}, inplace=True)"
   ]
  },
  {
   "cell_type": "code",
   "execution_count": 12,
   "id": "0a666482-c2d4-4e77-8a7c-29f84821b930",
   "metadata": {},
   "outputs": [
    {
     "data": {
      "text/html": [
       "<div>\n",
       "<style scoped>\n",
       "    .dataframe tbody tr th:only-of-type {\n",
       "        vertical-align: middle;\n",
       "    }\n",
       "\n",
       "    .dataframe tbody tr th {\n",
       "        vertical-align: top;\n",
       "    }\n",
       "\n",
       "    .dataframe thead th {\n",
       "        text-align: right;\n",
       "    }\n",
       "</style>\n",
       "<table border=\"1\" class=\"dataframe\">\n",
       "  <thead>\n",
       "    <tr style=\"text-align: right;\">\n",
       "      <th></th>\n",
       "      <th>Sex Trafficking</th>\n",
       "    </tr>\n",
       "    <tr>\n",
       "      <th>file_title</th>\n",
       "      <th></th>\n",
       "    </tr>\n",
       "  </thead>\n",
       "  <tbody>\n",
       "    <tr>\n",
       "      <th>A.B. v. Shilo Inn, Salem, LLC, 2023 U.S. Dist. LEXIS 143289</th>\n",
       "      <td>1</td>\n",
       "    </tr>\n",
       "    <tr>\n",
       "      <th>A.D. v. Best Western Int_l, Inc., 2023 U.S. Dist. LEXIS 150376</th>\n",
       "      <td>1</td>\n",
       "    </tr>\n",
       "    <tr>\n",
       "      <th>A.D. v. Choice Hotels Int_l, Inc., 2023 U.S. Dist. LEXIS 150380</th>\n",
       "      <td>1</td>\n",
       "    </tr>\n",
       "    <tr>\n",
       "      <th>A.D. v. Choice Hotels Int_l, Inc., 2023 U.S. Dist. LEXIS 150391</th>\n",
       "      <td>1</td>\n",
       "    </tr>\n",
       "    <tr>\n",
       "      <th>A.D. v. Choice Hotels Int_l, Inc., 2023 U.S. Dist. LEXIS 150397</th>\n",
       "      <td>1</td>\n",
       "    </tr>\n",
       "  </tbody>\n",
       "</table>\n",
       "</div>"
      ],
      "text/plain": [
       "                                                    Sex Trafficking\n",
       "file_title                                                         \n",
       "A.B. v. Shilo Inn, Salem, LLC, 2023 U.S. Dist. ...                1\n",
       "A.D. v. Best Western Int_l, Inc., 2023 U.S. Dis...                1\n",
       "A.D. v. Choice Hotels Int_l, Inc., 2023 U.S. Di...                1\n",
       "A.D. v. Choice Hotels Int_l, Inc., 2023 U.S. Di...                1\n",
       "A.D. v. Choice Hotels Int_l, Inc., 2023 U.S. Di...                1"
      ]
     },
     "execution_count": 12,
     "metadata": {},
     "output_type": "execute_result"
    }
   ],
   "source": [
    "labels.head()"
   ]
  },
  {
   "cell_type": "code",
   "execution_count": 13,
   "id": "ed99dda1-667c-4993-a9ab-d927f63d7815",
   "metadata": {},
   "outputs": [
    {
     "data": {
      "text/html": [
       "<div>\n",
       "<style scoped>\n",
       "    .dataframe tbody tr th:only-of-type {\n",
       "        vertical-align: middle;\n",
       "    }\n",
       "\n",
       "    .dataframe tbody tr th {\n",
       "        vertical-align: top;\n",
       "    }\n",
       "\n",
       "    .dataframe thead th {\n",
       "        text-align: right;\n",
       "    }\n",
       "</style>\n",
       "<table border=\"1\" class=\"dataframe\">\n",
       "  <thead>\n",
       "    <tr style=\"text-align: right;\">\n",
       "      <th></th>\n",
       "      <th>Sex Trafficking</th>\n",
       "    </tr>\n",
       "    <tr>\n",
       "      <th>file_title</th>\n",
       "      <th></th>\n",
       "    </tr>\n",
       "  </thead>\n",
       "  <tbody>\n",
       "  </tbody>\n",
       "</table>\n",
       "</div>"
      ],
      "text/plain": [
       "Empty DataFrame\n",
       "Columns: [Sex Trafficking]\n",
       "Index: []"
      ]
     },
     "execution_count": 13,
     "metadata": {},
     "output_type": "execute_result"
    }
   ],
   "source": [
    "labels[labels.index.duplicated(keep=False)]"
   ]
  },
  {
   "cell_type": "code",
   "execution_count": 14,
   "id": "f060f45e-4dbb-4a0a-9009-7d50673296f8",
   "metadata": {},
   "outputs": [
    {
     "data": {
      "text/plain": [
       "(234, 1)"
      ]
     },
     "execution_count": 14,
     "metadata": {},
     "output_type": "execute_result"
    }
   ],
   "source": [
    "labels.shape"
   ]
  },
  {
   "cell_type": "code",
   "execution_count": 15,
   "id": "7c9bac67-cd81-4f2c-96c5-031ce27ae4b9",
   "metadata": {},
   "outputs": [
    {
     "data": {
      "text/plain": [
       "(233, 2)"
      ]
     },
     "execution_count": 15,
     "metadata": {},
     "output_type": "execute_result"
    }
   ],
   "source": [
    "INFO = mydf.add_labels(labels)\n",
    "INFO.shape"
   ]
  },
  {
   "cell_type": "code",
   "execution_count": 16,
   "id": "1c256e08-b4d7-430c-a60f-4b3ff10862b6",
   "metadata": {},
   "outputs": [
    {
     "data": {
      "text/html": [
       "<div>\n",
       "<style scoped>\n",
       "    .dataframe tbody tr th:only-of-type {\n",
       "        vertical-align: middle;\n",
       "    }\n",
       "\n",
       "    .dataframe tbody tr th {\n",
       "        vertical-align: top;\n",
       "    }\n",
       "\n",
       "    .dataframe thead th {\n",
       "        text-align: right;\n",
       "    }\n",
       "</style>\n",
       "<table border=\"1\" class=\"dataframe\">\n",
       "  <thead>\n",
       "    <tr style=\"text-align: right;\">\n",
       "      <th></th>\n",
       "      <th>narrative</th>\n",
       "      <th>Sex Trafficking</th>\n",
       "    </tr>\n",
       "    <tr>\n",
       "      <th>file_title</th>\n",
       "      <th></th>\n",
       "      <th></th>\n",
       "    </tr>\n",
       "  </thead>\n",
       "  <tbody>\n",
       "    <tr>\n",
       "      <th>A.B. v. Shilo Inn, Salem, LLC, 2023 U.S. Dist. LEXIS 143289</th>\n",
       "      <td>OPINION AND ORDER GRANTING DEFENDANT  SUMMIT H...</td>\n",
       "      <td>1</td>\n",
       "    </tr>\n",
       "    <tr>\n",
       "      <th>A.D. v. Best Western Int_l, Inc., 2023 U.S. Dist. LEXIS 150376</th>\n",
       "      <td>OPINION AND ORDER This matter comes before the...</td>\n",
       "      <td>1</td>\n",
       "    </tr>\n",
       "    <tr>\n",
       "      <th>A.D. v. Choice Hotels Int_l, Inc., 2023 U.S. Dist. LEXIS 150380</th>\n",
       "      <td>OPINION AND ORDER This matter comes before the...</td>\n",
       "      <td>1</td>\n",
       "    </tr>\n",
       "    <tr>\n",
       "      <th>A.D. v. Choice Hotels Int_l, Inc., 2023 U.S. Dist. LEXIS 150391</th>\n",
       "      <td>OPINION AND ORDER This matter comes before the...</td>\n",
       "      <td>1</td>\n",
       "    </tr>\n",
       "    <tr>\n",
       "      <th>A.D. v. Choice Hotels Int_l, Inc., 2023 U.S. Dist. LEXIS 150397</th>\n",
       "      <td>OPINION AND ORDER This matter comes before the...</td>\n",
       "      <td>1</td>\n",
       "    </tr>\n",
       "  </tbody>\n",
       "</table>\n",
       "</div>"
      ],
      "text/plain": [
       "                                                                                            narrative  \\\n",
       "file_title                                                                                              \n",
       "A.B. v. Shilo Inn, Salem, LLC, 2023 U.S. Dist. ...  OPINION AND ORDER GRANTING DEFENDANT  SUMMIT H...   \n",
       "A.D. v. Best Western Int_l, Inc., 2023 U.S. Dis...  OPINION AND ORDER This matter comes before the...   \n",
       "A.D. v. Choice Hotels Int_l, Inc., 2023 U.S. Di...  OPINION AND ORDER This matter comes before the...   \n",
       "A.D. v. Choice Hotels Int_l, Inc., 2023 U.S. Di...  OPINION AND ORDER This matter comes before the...   \n",
       "A.D. v. Choice Hotels Int_l, Inc., 2023 U.S. Di...  OPINION AND ORDER This matter comes before the...   \n",
       "\n",
       "                                                    Sex Trafficking  \n",
       "file_title                                                           \n",
       "A.B. v. Shilo Inn, Salem, LLC, 2023 U.S. Dist. ...                1  \n",
       "A.D. v. Best Western Int_l, Inc., 2023 U.S. Dis...                1  \n",
       "A.D. v. Choice Hotels Int_l, Inc., 2023 U.S. Di...                1  \n",
       "A.D. v. Choice Hotels Int_l, Inc., 2023 U.S. Di...                1  \n",
       "A.D. v. Choice Hotels Int_l, Inc., 2023 U.S. Di...                1  "
      ]
     },
     "execution_count": 16,
     "metadata": {},
     "output_type": "execute_result"
    }
   ],
   "source": [
    "INFO.head()"
   ]
  },
  {
   "cell_type": "code",
   "execution_count": 17,
   "id": "f6b380f0-2cdb-4778-8884-ae153937c379",
   "metadata": {},
   "outputs": [],
   "source": [
    "from sklearn.model_selection import train_test_split\n",
    "\n",
    "# Set a seed for reproducibility\n",
    "seed_value = 2324\n",
    "np.random.seed(seed_value)\n",
    "\n",
    "# Perform train-test split\n",
    "train_df, test_df = train_test_split(INFO, test_size=0.4, random_state=seed_value)"
   ]
  },
  {
   "cell_type": "code",
   "execution_count": 18,
   "id": "d626a4d7-217b-4dd8-80f5-77115ad7b55d",
   "metadata": {},
   "outputs": [
    {
     "data": {
      "text/html": [
       "<div>\n",
       "<style scoped>\n",
       "    .dataframe tbody tr th:only-of-type {\n",
       "        vertical-align: middle;\n",
       "    }\n",
       "\n",
       "    .dataframe tbody tr th {\n",
       "        vertical-align: top;\n",
       "    }\n",
       "\n",
       "    .dataframe thead th {\n",
       "        text-align: right;\n",
       "    }\n",
       "</style>\n",
       "<table border=\"1\" class=\"dataframe\">\n",
       "  <thead>\n",
       "    <tr style=\"text-align: right;\">\n",
       "      <th></th>\n",
       "      <th>narrative</th>\n",
       "      <th>Sex Trafficking</th>\n",
       "    </tr>\n",
       "    <tr>\n",
       "      <th>file_title</th>\n",
       "      <th></th>\n",
       "      <th></th>\n",
       "    </tr>\n",
       "  </thead>\n",
       "  <tbody>\n",
       "    <tr>\n",
       "      <th>United States v. Lacey, 2021 U.S. Dist. LEXIS 247570</th>\n",
       "      <td>ORDER Pending before the Court is the Defendan...</td>\n",
       "      <td>0</td>\n",
       "    </tr>\n",
       "    <tr>\n",
       "      <th>United States v. Keys, 747 Fed. Appx. 198</th>\n",
       "      <td>[*200]  PER CURIAM: Martavious Detrel Banks Ke...</td>\n",
       "      <td>1</td>\n",
       "    </tr>\n",
       "    <tr>\n",
       "      <th>State v. Martinez-Mejia, 2023 N.J. Super. LEXIS 123</th>\n",
       "      <td>The opinion of the court was delivered by CHAS...</td>\n",
       "      <td>0</td>\n",
       "    </tr>\n",
       "    <tr>\n",
       "      <th>Carter v. Metlife Grp., Inc., 2023 U.S. Dist. LEXIS 217793</th>\n",
       "      <td>[*1] RULING  AND  ORDER  ON  DEFENDANT'S  MOTI...</td>\n",
       "      <td>1</td>\n",
       "    </tr>\n",
       "    <tr>\n",
       "      <th>United States v. Lacey, 2021 U.S. Dist. LEXIS 88256</th>\n",
       "      <td>WO ORDER The Court is in receipt of Defendants...</td>\n",
       "      <td>0</td>\n",
       "    </tr>\n",
       "  </tbody>\n",
       "</table>\n",
       "</div>"
      ],
      "text/plain": [
       "                                                                                            narrative  \\\n",
       "file_title                                                                                              \n",
       "United States v. Lacey, 2021 U.S. Dist. LEXIS 2...  ORDER Pending before the Court is the Defendan...   \n",
       "United States v. Keys, 747 Fed. Appx. 198           [*200]  PER CURIAM: Martavious Detrel Banks Ke...   \n",
       "State v. Martinez-Mejia, 2023 N.J. Super. LEXIS...  The opinion of the court was delivered by CHAS...   \n",
       "Carter v. Metlife Grp., Inc., 2023 U.S. Dist. L...  [*1] RULING  AND  ORDER  ON  DEFENDANT'S  MOTI...   \n",
       "United States v. Lacey, 2021 U.S. Dist. LEXIS 8...  WO ORDER The Court is in receipt of Defendants...   \n",
       "\n",
       "                                                    Sex Trafficking  \n",
       "file_title                                                           \n",
       "United States v. Lacey, 2021 U.S. Dist. LEXIS 2...                0  \n",
       "United States v. Keys, 747 Fed. Appx. 198                         1  \n",
       "State v. Martinez-Mejia, 2023 N.J. Super. LEXIS...                0  \n",
       "Carter v. Metlife Grp., Inc., 2023 U.S. Dist. L...                1  \n",
       "United States v. Lacey, 2021 U.S. Dist. LEXIS 8...                0  "
      ]
     },
     "execution_count": 18,
     "metadata": {},
     "output_type": "execute_result"
    }
   ],
   "source": [
    "train_df.head()"
   ]
  },
  {
   "cell_type": "code",
   "execution_count": 19,
   "id": "5fa616e2-d1f2-4350-a1e4-8967f965959c",
   "metadata": {},
   "outputs": [
    {
     "data": {
      "text/html": [
       "<div>\n",
       "<style scoped>\n",
       "    .dataframe tbody tr th:only-of-type {\n",
       "        vertical-align: middle;\n",
       "    }\n",
       "\n",
       "    .dataframe tbody tr th {\n",
       "        vertical-align: top;\n",
       "    }\n",
       "\n",
       "    .dataframe thead th {\n",
       "        text-align: right;\n",
       "    }\n",
       "</style>\n",
       "<table border=\"1\" class=\"dataframe\">\n",
       "  <thead>\n",
       "    <tr style=\"text-align: right;\">\n",
       "      <th></th>\n",
       "      <th>narrative</th>\n",
       "      <th>Sex Trafficking</th>\n",
       "    </tr>\n",
       "    <tr>\n",
       "      <th>file_title</th>\n",
       "      <th></th>\n",
       "      <th></th>\n",
       "    </tr>\n",
       "  </thead>\n",
       "  <tbody>\n",
       "    <tr>\n",
       "      <th>In re Flanders, 2020 U.S. App. LEXIS 37425</th>\n",
       "      <td>Page 3 of 4   Application for Leave to File a ...</td>\n",
       "      <td>1</td>\n",
       "    </tr>\n",
       "    <tr>\n",
       "      <th>United States v. Woods, 2020 U.S. Dist. LEXIS 207907</th>\n",
       "      <td>MEMORANDUM OPINION AND ORDER DENYING DEFENDANT...</td>\n",
       "      <td>1</td>\n",
       "    </tr>\n",
       "    <tr>\n",
       "      <th>Davis v. McKenzie, 2017 U.S. Dist. LEXIS 183519</th>\n",
       "      <td>REPORT AND RECOMMENDATION TO DISTRICT JUDGE I....</td>\n",
       "      <td>1</td>\n",
       "    </tr>\n",
       "    <tr>\n",
       "      <th>United States v. Cutler, 2023 U.S. App. LEXIS 32169</th>\n",
       "      <td>KOBES, Circuit Judge. Jordan Cutler pleaded gu...</td>\n",
       "      <td>0</td>\n",
       "    </tr>\n",
       "    <tr>\n",
       "      <th>Lewis v. Senior Lifestyle, 2023 U.S. Dist. LEXIS 217659</th>\n",
       "      <td>[*1] MEMORANDUM OPINION THIS MATTER is before ...</td>\n",
       "      <td>1</td>\n",
       "    </tr>\n",
       "  </tbody>\n",
       "</table>\n",
       "</div>"
      ],
      "text/plain": [
       "                                                                                            narrative  \\\n",
       "file_title                                                                                              \n",
       "In re Flanders, 2020 U.S. App. LEXIS 37425          Page 3 of 4   Application for Leave to File a ...   \n",
       "United States v. Woods, 2020 U.S. Dist. LEXIS 2...  MEMORANDUM OPINION AND ORDER DENYING DEFENDANT...   \n",
       "Davis v. McKenzie, 2017 U.S. Dist. LEXIS 183519     REPORT AND RECOMMENDATION TO DISTRICT JUDGE I....   \n",
       "United States v. Cutler, 2023 U.S. App. LEXIS 3...  KOBES, Circuit Judge. Jordan Cutler pleaded gu...   \n",
       "Lewis v. Senior Lifestyle, 2023 U.S. Dist. LEXI...  [*1] MEMORANDUM OPINION THIS MATTER is before ...   \n",
       "\n",
       "                                                    Sex Trafficking  \n",
       "file_title                                                           \n",
       "In re Flanders, 2020 U.S. App. LEXIS 37425                        1  \n",
       "United States v. Woods, 2020 U.S. Dist. LEXIS 2...                1  \n",
       "Davis v. McKenzie, 2017 U.S. Dist. LEXIS 183519                   1  \n",
       "United States v. Cutler, 2023 U.S. App. LEXIS 3...                0  \n",
       "Lewis v. Senior Lifestyle, 2023 U.S. Dist. LEXI...                1  "
      ]
     },
     "execution_count": 19,
     "metadata": {},
     "output_type": "execute_result"
    }
   ],
   "source": [
    "test_df.head()"
   ]
  },
  {
   "cell_type": "raw",
   "id": "c1a51457-9c09-44f3-bbf4-3ed2c8e632e7",
   "metadata": {},
   "source": [
    "train_df.to_csv('train_df.csv', index=True)"
   ]
  },
  {
   "cell_type": "raw",
   "id": "0105c734-db9e-4d10-9bb0-709fdd94ea39",
   "metadata": {},
   "source": [
    "test_df.to_csv('test_df.csv', index=True)"
   ]
  }
 ],
 "metadata": {
  "kernelspec": {
   "display_name": "Python 3 (ipykernel)",
   "language": "python",
   "name": "python3"
  },
  "language_info": {
   "codemirror_mode": {
    "name": "ipython",
    "version": 3
   },
   "file_extension": ".py",
   "mimetype": "text/x-python",
   "name": "python",
   "nbconvert_exporter": "python",
   "pygments_lexer": "ipython3",
   "version": "3.11.4"
  }
 },
 "nbformat": 4,
 "nbformat_minor": 5
}
